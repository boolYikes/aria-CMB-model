{
 "cells": [
  {
   "cell_type": "code",
   "execution_count": null,
   "metadata": {},
   "outputs": [],
   "source": [
    "import radiomics\n",
    "from radiomics import firstorder, glcm, ngtdm, shape, imageoperations, getFeatureClasses\n",
    "import os, glob, shutil, tempfile\n",
    "import numpy as np\n",
    "import torch\n",
    "import monai\n",
    "import matplotlib.pyplot as plt\n",
    "\n",
    "from monai.config import print_config\n",
    "from monai.data import ArrayDataset, GridPatchDataset, PatchIter\n",
    "from monai.transforms import (\n",
    "    Compose,\n",
    "    LoadImage,\n",
    "    RandSpatialCrop,\n",
    "    ScaleIntensity,\n",
    "    EnsureType,\n",
    ")\n",
    "from monai.utils import first\n",
    "print_config()"
   ]
  },
  {
   "cell_type": "code",
   "execution_count": null,
   "metadata": {},
   "outputs": [],
   "source": [
    "directory = os.environ.get(\"MONAI_DATA_DIRECTORY\")\n",
    "root_dir = tempfile.mkdtemp() if directory is None else directory\n",
    "print(root_dir) # these seem to be for downloaded test images. Does not apply to me."
   ]
  },
  {
   "cell_type": "code",
   "execution_count": null,
   "metadata": {},
   "outputs": [],
   "source": [
    "import sys\n",
    "print(sys.maxsize > 2**32)"
   ]
  },
  {
   "cell_type": "code",
   "execution_count": null,
   "metadata": {},
   "outputs": [],
   "source": [
    "!pwd"
   ]
  },
  {
   "cell_type": "code",
   "execution_count": null,
   "metadata": {},
   "outputs": [],
   "source": [
    "!ls Data/21102002"
   ]
  },
  {
   "cell_type": "code",
   "execution_count": null,
   "metadata": {},
   "outputs": [],
   "source": [
    "path = \"./Data/\"\n",
    "temp_list = os.listdir(path)\n",
    "cmb_list = []\n",
    "orig_list = []\n",
    "t1_list = []\n",
    "for i, name in enumerate(temp_list):\n",
    "    if \".\" in  name:\n",
    "        temp_list.pop(i)\n",
    "    else:\n",
    "        cmb_list.append(path+name+\"/cmb.nii.gz\")\n",
    "        orig_list.append(path+name+\"/swi.nii.gz\")\n",
    "        t1_list.append(path+name+\"/t1.nii.gz\")"
   ]
  },
  {
   "cell_type": "code",
   "execution_count": null,
   "metadata": {},
   "outputs": [],
   "source": [
    "orig_test = LoadImage(image_only=True, ensure_channel_first=True, simple_keys=True)(orig_list[0])\n",
    "cmb_test = LoadImage(image_only=True, ensure_channel_first=True, simple_keys=True)(cmb_list[0])\n",
    "t1_test = LoadImage(image_only=True, ensure_channel_first=True, simple_keys=True)(t1_list[0])\n",
    "# it's a tensor"
   ]
  },
  {
   "cell_type": "code",
   "execution_count": null,
   "metadata": {},
   "outputs": [],
   "source": [
    "print(f'swi shape:  {orig_test.shape},\\ncmb shape:  {cmb_test.shape}')\n",
    "print(f't1 shape: {t1_test.shape}')"
   ]
  },
  {
   "cell_type": "code",
   "execution_count": null,
   "metadata": {},
   "outputs": [],
   "source": [
    "import logging\n",
    "import SimpleITK as sitk\n",
    "logger = radiomics.logger\n",
    "logger.setLevel(logging.DEBUG)\n",
    "handler = logging.FileHandler(filename=\"testLog.txt\", mode=\"w\")\n",
    "formatter = logging.Formatter(\"%(levelname)s:%(name)s: %(message)s\")\n",
    "handler.setFormatter(formatter)\n",
    "logger.addHandler(handler)"
   ]
  },
  {
   "cell_type": "code",
   "execution_count": null,
   "metadata": {},
   "outputs": [],
   "source": [
    "settings = {\n",
    "    \"binWidth\":30,\n",
    "    \"minimumROIDimensions\":2,\n",
    "    \"minumumROISize\":None,\n",
    "    \"normalize\":True, # weighted images = True\n",
    "    \"normalizeScale\":100,\n",
    "    \"removeOutliers\":None,\n",
    "    \"resampledPixelSpacing\":[2, 2, 0], # for sampling\n",
    "    \"interpolator\":sitk.sitkBSpline, # for sampling\n",
    "    \"preCrop\":True,\n",
    "    \"padDistance\":10,\n",
    "    \"label\":1,\n",
    "    \"additionalInfo\":True,\n",
    "    \"voxelArrayShift\":300\n",
    "}"
   ]
  },
  {
   "cell_type": "markdown",
   "metadata": {},
   "source": [
    "<hr style=\"color:green\">\n",
    "<hr style=\"color:green\">\n",
    "SET THE INDIVIDUAL FEATURE SEPARATELY\n",
    "<hr style=\"color:green\">\n",
    "<hr style=\"color:green\">"
   ]
  },
  {
   "cell_type": "code",
   "execution_count": null,
   "metadata": {},
   "outputs": [],
   "source": [
    "import six\n",
    "orig_itk = sitk.ReadImage(orig_list[0])\n",
    "cmb_itk = sitk.ReadImage(cmb_list[0])"
   ]
  },
  {
   "cell_type": "code",
   "execution_count": null,
   "metadata": {},
   "outputs": [],
   "source": [
    "label_stats =sitk.LabelStatisticsImageFilter()\n",
    "label_stats.Execute(image=orig_itk, labelImage=cmb_itk)\n",
    "num_of_labels = label_stats.GetNumberOfLabels()\n",
    "print(num_of_labels)"
   ]
  },
  {
   "cell_type": "code",
   "execution_count": null,
   "metadata": {},
   "outputs": [],
   "source": [
    "orig_test[0].shape"
   ]
  },
  {
   "cell_type": "code",
   "execution_count": null,
   "metadata": {},
   "outputs": [],
   "source": [
    "firstOrderFeatures = firstorder.RadiomicsFirstOrder(orig_itk, cmb_itk, **settings)\n",
    "firstOrderFeatures.disableAllFeatures() # for resetting the instance\n",
    "firstOrderFeatures.enableFeatureByName(\"Mean\", True)\n",
    "firstOrderFeatures.enableFeatureByName(\"Kurtosis\", True)\n",
    "firstOrderFeatures.enableFeatureByName(\"Median\", True)\n",
    "# firstOrderFeatures.enableFeatureByName(\"StandardDeviation\", True)\n",
    "firstOrderFeatures.enableFeatureByName(\"Skewness\", True)\n",
    "firstOrderFeatures.enableFeatureByName(\"Variance\", True)\n",
    "\n",
    "print(\"following first order features will be calculated\")\n",
    "for f in firstOrderFeatures.enabledFeatures.keys():\n",
    "    print(\"  \", f)\n",
    "    print(getattr(firstOrderFeatures, \"get%sFeatureValue\" % f).__doc__)\n",
    "print(\"\\nCalculating FO features!\")\n",
    "fo_result = firstOrderFeatures.execute()\n",
    "print(\"Done!\")"
   ]
  },
  {
   "cell_type": "code",
   "execution_count": null,
   "metadata": {},
   "outputs": [],
   "source": [
    "# TEST CELL\n",
    "# firstOrderFeatures.disableAllFeatures()\n",
    "# firstOrderFeatures.enableAllFeatures()"
   ]
  },
  {
   "cell_type": "code",
   "execution_count": null,
   "metadata": {},
   "outputs": [],
   "source": [
    "# check what's inside! It's Christmas! -not! .... !Christmas XD\n",
    "for (key, val) in six.iteritems(fo_result):\n",
    "    print(' ', key, ':', val)"
   ]
  },
  {
   "cell_type": "code",
   "execution_count": null,
   "metadata": {},
   "outputs": [],
   "source": [
    "shapeFeatures = shape.RadiomicsShape(orig_itk, cmb_itk, **settings)\n",
    "shapeFeatures.enableAllFeatures()\n",
    "\n",
    "for f in shapeFeatures.enabledFeatures.keys():\n",
    "    print(' ', f)\n",
    "    print(getattr(shapeFeatures, 'get%sFeatureValue' % f).__doc__)\n",
    "print(\"\\n Calculating shape features...\")\n",
    "sh_feature = shapeFeatures.execute()\n",
    "print(\"done!\")"
   ]
  },
  {
   "cell_type": "code",
   "execution_count": null,
   "metadata": {},
   "outputs": [],
   "source": [
    "for (key, val) in six.iteritems(sh_feature):\n",
    "    print(\" \", key, \":\", val)"
   ]
  },
  {
   "cell_type": "code",
   "execution_count": null,
   "metadata": {},
   "outputs": [],
   "source": [
    "glcmFeatures = glcm.RadiomicsGLCM(orig_itk, cmb_itk, **settings)\n",
    "glcmFeatures.enableAllFeatures()\n",
    "\n",
    "print(\"These GLCM features will be calculated\")\n",
    "for f in glcmFeatures.enabledFeatures.keys():\n",
    "    print(' ', f)\n",
    "    print(getattr(glcmFeatures, 'get%sFeatureValue' % f).__doc__)\n",
    "print('\\nCalculating GLCM features..')\n",
    "glcm_feature = glcmFeatures.execute()\n",
    "print(\"Done\")"
   ]
  },
  {
   "cell_type": "code",
   "execution_count": null,
   "metadata": {},
   "outputs": [],
   "source": [
    "print(\"Here are the calculated GLCM features!\")\n",
    "for (key, val) in six.iteritems(glcm_feature):\n",
    "    print(' ', key, \":\", val)"
   ]
  },
  {
   "cell_type": "code",
   "execution_count": null,
   "metadata": {},
   "outputs": [],
   "source": [
    "ngtdmFeatures = ngtdm.RadiomicsNGTDM(orig_itk, cmb_itk, **settings)\n",
    "ngtdmFeatures.enableAllFeatures()\n",
    "\n",
    "print(\"Now let's do NGTDM\")\n",
    "for f in ngtdmFeatures.enabledFeatures.keys():\n",
    "    print(' ', f)\n",
    "    print(getattr(ngtdmFeatures, 'get%sFeatureValue' % f).__doc__)\n",
    "    \n",
    "print('Calculating')\n",
    "ngtdm_feature = ngtdmFeatures.execute()\n",
    "print(\"done!\")"
   ]
  },
  {
   "cell_type": "code",
   "execution_count": null,
   "metadata": {},
   "outputs": [],
   "source": [
    "print(\"NGTDM feature extraction result\")\n",
    "for (key, val) in six.iteritems(ngtdm_feature):\n",
    "    print(' ', key, \":\", val)"
   ]
  },
  {
   "cell_type": "markdown",
   "metadata": {},
   "source": [
    "<hr style=\"color:olive\">\n",
    "<hr style=\"color:olive\">\n",
    "Show filtered images... : I'm not sure what these are\n",
    "<hr style=\"color:olive\">\n",
    "<hr style=\"color:olive\">"
   ]
  },
  {
   "cell_type": "code",
   "execution_count": null,
   "metadata": {},
   "outputs": [],
   "source": [
    "applyLog = True\n",
    "applyWavelet = True"
   ]
  },
  {
   "cell_type": "code",
   "execution_count": null,
   "metadata": {},
   "outputs": [],
   "source": [
    "if applyLog: # \"Firstorder features calculated on LoG-filtered-image\"\n",
    "    sigmaValues = np.arange(5., 0., -.5)[::1]\n",
    "    for logImage, imageTypeName, inputKwargs in imageoperations.getLoGImage(orig_itk, cmb_itk, sigma=sigmaValues):\n",
    "        logFirstorderFeatures = firstorder.RadiomicsFirstOrder(logImage, cmb_itk, **inputKwargs)\n",
    "        logFirstorderFeatures.enableAllFeatures()\n",
    "        results = logFirstorderFeatures.execute()\n",
    "        for (key, val) in six.iteritems(results):\n",
    "            laplacianFeatureName = \"%s_%s\" % (imageTypeName, key)\n",
    "            print(' ', laplacianFeatureName, \":\", val)"
   ]
  },
  {
   "cell_type": "code",
   "execution_count": null,
   "metadata": {},
   "outputs": [],
   "source": [
    "if applyWavelet: # same but with the wavelet filter\n",
    "    for decompositionImage, decompositionName, inputKwargs in imageoperations.getWaveletImage(orig_itk, cmb_itk):\n",
    "        waveletFirstOrderFeatures = firstorder.RadiomicsFirstOrder(decompositionImage, cmb_itk, **inputKwargs)\n",
    "        waveletFirstOrderFeatures.enableAllFeatures()\n",
    "        results = waveletFirstOrderFeatures.execute()\n",
    "        print(\"Calculated firstorder features with wavelet \", decompositionName)\n",
    "        for (key, val) in six.iteritems(results):\n",
    "            waveletFeatureName = \"%s_%s\" % (str(decompositionName), key)\n",
    "            print(\" \", waveletFeatureName, \":\", val)"
   ]
  },
  {
   "cell_type": "markdown",
   "metadata": {},
   "source": [
    "<hr style=\"color:orange\">\n",
    "<hr style=\"color:orange\">\n",
    "OR DO ALL AT ONCE?\n",
    "<hr style=\"color:orange\">\n",
    "<hr style=\"color:orange\">"
   ]
  },
  {
   "cell_type": "code",
   "execution_count": null,
   "metadata": {},
   "outputs": [],
   "source": [
    "extractor = radiomics.featureextractor.RadiomicsFeatureExtractor(**settings)\n",
    "extractor.disableAllFeatures()\n",
    "extractor.enableAllFeatures()\n",
    "# extractor.enableFeaturesByName(firstorder=[\"Mean\", \"Kurtosis\", \"Median\", \"Skewness\", \"Variance\"])"
   ]
  },
  {
   "cell_type": "code",
   "execution_count": null,
   "metadata": {},
   "outputs": [],
   "source": [
    "print(\"Calculating\")\n",
    "featureVector = extractor.execute(orig_itk, cmb_itk)"
   ]
  },
  {
   "cell_type": "code",
   "execution_count": null,
   "metadata": {},
   "outputs": [],
   "source": [
    "for key in featureVector.keys():\n",
    "    print(key)"
   ]
  },
  {
   "cell_type": "code",
   "execution_count": null,
   "metadata": {},
   "outputs": [],
   "source": [
    "for featureName in featureVector.keys():\n",
    "    if featureName.find(\"diagnostic\")!=-1 or featureName.find(\"shape\")!=-1 or featureName.find(\"glcm\")!=-1 or featureName.find(\"first\")!=-1 or featureName.find(\"ngtdm\")!=-1:\n",
    "        print(\"%s: %s\" % (featureName, featureVector[featureName]))"
   ]
  },
  {
   "cell_type": "markdown",
   "metadata": {},
   "source": [
    "<hr style=\"color:purple\">\n",
    "<hr style=\"color:purple\">\n",
    "Z-score standardization\n",
    "<hr style=\"color:purple\">\n",
    "<hr style=\"color:purple\">"
   ]
  },
  {
   "cell_type": "code",
   "execution_count": null,
   "metadata": {},
   "outputs": [],
   "source": [
    "fo_list = []\n",
    "for key in fo_result.keys():\n",
    "    fo_list.append(float(fo_result[key]))\n",
    "ngtdm_list = []\n",
    "for key in ngtdm_feature.keys():\n",
    "    ngtdm_list.append(float(ngtdm_feature[key]))\n",
    "shape_list = []\n",
    "for key in sh_feature.keys():\n",
    "    shape_list.append(float(sh_feature[key]))\n",
    "glcm_list = []\n",
    "for key in glcm_feature.keys():\n",
    "    glcm_list.append(float(glcm_feature[key]))"
   ]
  },
  {
   "cell_type": "code",
   "execution_count": null,
   "metadata": {},
   "outputs": [],
   "source": [
    "def zscore(data):\n",
    "    mean = np.mean(data)\n",
    "    std = np.std(data)\n",
    "    z_scores = [(x - mean) / std for x in data]\n",
    "    return z_scores"
   ]
  },
  {
   "cell_type": "code",
   "execution_count": null,
   "metadata": {},
   "outputs": [],
   "source": [
    "all_feature = fo_list + shape_list + glcm_list + ngtdm_list\n",
    "all_feature = zscore(all_feature)\n",
    "all_feature = torch.tensor(all_feature)\n",
    "all_feature = all_feature.view(1, -1)\n",
    "all_feature.shape"
   ]
  },
  {
   "cell_type": "code",
   "execution_count": null,
   "metadata": {},
   "outputs": [],
   "source": [
    "all_feature"
   ]
  },
  {
   "cell_type": "markdown",
   "metadata": {},
   "source": [
    "<hr style=\"color:red\">\n",
    "<hr style=\"color:red\">\n",
    "THE MODEL\n",
    "<hr style=\"color:red\">\n",
    "<hr style=\"color:red\">"
   ]
  },
  {
   "cell_type": "code",
   "execution_count": null,
   "metadata": {},
   "outputs": [],
   "source": [
    "import torch.nn as nn\n",
    "import torch.nn.functional as F\n",
    "import torchsummary as ts"
   ]
  },
  {
   "cell_type": "code",
   "execution_count": null,
   "metadata": {},
   "outputs": [],
   "source": [
    "# 할거 ㅇㅇ\n",
    "class CMBWATCHDOG(nn.Module):\n",
    "    def __init__(self):\n",
    "        super(CMBWATCHDOG, self).__init__()\n",
    "        self.conv3d = nn.Conv3d(in_channels=2, out_channels=2, kernel_size=2)\n",
    "    def forward(self, x):\n",
    "        x = self.conv3d(x)\n",
    "        return x\n",
    "model = CMBWATCHDOG()\n",
    "ts.summary(model, (2,2,2))"
   ]
  },
  {
   "cell_type": "markdown",
   "metadata": {},
   "source": [
    "<hr style=\"color:skyblue\">\n",
    "<hr style=\"color:skyblue\">\n",
    "Voxel-based extraction with tqdm progress bar!\n",
    "<hr style=\"color:skyblue\">\n",
    "<hr style=\"color:skyblue\">"
   ]
  },
  {
   "cell_type": "code",
   "execution_count": null,
   "metadata": {},
   "outputs": [],
   "source": [
    "from __future__ import print_function"
   ]
  },
  {
   "cell_type": "code",
   "execution_count": null,
   "metadata": {},
   "outputs": [],
   "source": [
    "def tqdmProgressBar():\n",
    "    global extractor\n",
    "    radiomics.setVerbosity(logging.INFO) # verbose at least INFO\n",
    "    import tqdm\n",
    "    radiomics.progressReporter = tqdm.tqdm\n",
    "def clickProgressBar():\n",
    "    global extractor\n",
    "    extractor.enableFeatureClassByName(\"glcm\")\n",
    "    radiomics.setVerbosity(logging.INFO)\n",
    "    import click\n",
    "    class progressWrapper:\n",
    "        def __init__(self, iterable, desc=\"\"):\n",
    "            self.bar = click.progressbar(iterable, label=desc)\n",
    "        def __iter__(self):\n",
    "            return self.bar.__iter__()\n",
    "        def __enter__(self):\n",
    "            return self.bar.__enter__()\n",
    "        def __exit__(self, exc_type, exc_value, tb):\n",
    "            return self.bar.__exit__(exc_type, exc_value, tb)\n",
    "    radiomics.progressReporter = progressWrapper"
   ]
  },
  {
   "cell_type": "code",
   "execution_count": null,
   "metadata": {},
   "outputs": [],
   "source": [
    "logger.setLevel(logging.DEBUG)"
   ]
  },
  {
   "cell_type": "code",
   "execution_count": null,
   "metadata": {},
   "outputs": [],
   "source": [
    "extractor2 = radiomics.featureextractor.RadiomicsFeatureExtractor(**settings)\n",
    "featureClasses = getFeatureClasses()"
   ]
  },
  {
   "cell_type": "code",
   "execution_count": null,
   "metadata": {},
   "outputs": [],
   "source": [
    "tqdmProgressBar()"
   ]
  },
  {
   "cell_type": "code",
   "execution_count": null,
   "metadata": {},
   "outputs": [],
   "source": [
    "print(\"Active features:\")\n",
    "for cls, features in six.iteritems(extractor2.enabledFeatures):\n",
    "    if features is None or len(features) == 0 :\n",
    "        features = [f for f, deprecated in six.iteritems(featureClasses[cls].getFeatureNames()) if not deprecated]\n",
    "    for f in features:\n",
    "        print(f)\n",
    "        print(getattr(featureClasses[cls], 'get%sFeatureValue' % f).__doc__)"
   ]
  },
  {
   "cell_type": "code",
   "execution_count": null,
   "metadata": {},
   "outputs": [],
   "source": [
    "print(\"Calculating features...\")\n",
    "featureVector2 = extractor2.execute(orig_itk, cmb_itk, voxelBased=True) ## THIS IS THE DECIDING PARAMETER..."
   ]
  },
  {
   "cell_type": "code",
   "execution_count": null,
   "metadata": {},
   "outputs": [],
   "source": [
    "### THINK AGAIN BEFORE RUNNING THIS CELL! THIS WILL OUTPUT A LOT OF FILES UNDER PWD\n",
    "for featureName, featureValue in six.iteritems(featureVector2):\n",
    "    if isinstance(featureValue, sitk.Image):\n",
    "        sitk.WriteImage(featureValue, \"%s_%s.nrrd\" % (\"SWI\", featureName))\n",
    "        print(\"%s, stored as '%s_%s.nrrd'\" % (featureName, \"SWI\", featureName))\n",
    "    else:\n",
    "        print(\"%s: %s\" % (featureName, featureValue))"
   ]
  },
  {
   "cell_type": "markdown",
   "metadata": {},
   "source": [
    "<hr style=\"color:red\">\n",
    "<hr style=\"color:red\">\n",
    "RESAMPLING?? -> NOPE DON'T DO THIS\n",
    "<hr style=\"color:red\">\n",
    "<hr style=\"color:red\">"
   ]
  },
  {
   "cell_type": "code",
   "execution_count": null,
   "metadata": {},
   "outputs": [],
   "source": [
    "(ii, im) = imageoperations.resampleImage(orig_itk, cmb_itk, resampledImageSpacing=[2, 2, 2], resampledPixelSpacing=[2, 2, 2], label=1, padDistance=5)"
   ]
  },
  {
   "cell_type": "code",
   "execution_count": null,
   "metadata": {},
   "outputs": [],
   "source": [
    "sitk.WriteImage(ii, \"./resampled/21102001/orig_resamp_.nii.gz\")\n",
    "sitk.WriteImage(im, \"./resampled/21102001/cmb_resamp_.nii.gz\")\n",
    "# this process crops the region that contains a group of ROI? \n",
    "# unnecessary"
   ]
  },
  {
   "cell_type": "markdown",
   "metadata": {},
   "source": [
    "<hr style=\"color:pink;width:50px;margin-left:0px\" align=\"left\">\n",
    "<hr style=\"color:pink;width:50px;margin-left:10px\" align=\"left\">\n",
    "<hr style=\"color:pink;width:50px;margin-left:20px\" align=\"left\">\n",
    "<hr style=\"color:pink;width:50px;margin-left:30px\" align=\"left\">\n",
    "<hr style=\"color:pink;width:50px;margin-left:40px\" align=\"left\">\n",
    "BELOW IS FOR IMAGE DISPLAYING"
   ]
  },
  {
   "cell_type": "code",
   "execution_count": null,
   "metadata": {},
   "outputs": [],
   "source": [
    "%matplotlib inline\n",
    "from monai.transforms import LoadImaged, EnsureChannelFirstd, ResampleToMatchd, Orientationd\n",
    "from matplotlib import animation, rc; rc(\"animation\", html=\"jshtml\")\n",
    "import gc\n",
    "\n",
    "transform = Compose(\n",
    "    [\n",
    "        LoadImaged(reader=(\"PydicomReader\", \"nibabelreader\"), keys=[\"image\", \"seg\"]),\n",
    "        EnsureChannelFirstd(keys=[\"image\", \"seg\"]),\n",
    "        Orientationd(keys=[\"image\", \"seg\"], axcodes=\"RAS\"),\n",
    "    ]\n",
    ")\n",
    "\n",
    "def create_animation(img, seg, seg_rev=False, fps=10):\n",
    "    images = img\n",
    "    segs = seg\n",
    "    if seg_rev:\n",
    "        segs = segs[::-1]\n",
    "    ims_sgs = [np.concatenate([images[i], segs[i]], axis=1) for i in range(len(images))]\n",
    "    animation_arr = np.stack(ims_sgs, axis=0)\n",
    "    del images, ims_sgs\n",
    "    gc.collect()\n",
    "    \n",
    "    fig = plt.figure(figsize=(5,5), dpi=160)\n",
    "    im = plt.imshow(animation_arr[0], cmap=\"bone\")\n",
    "    plt.axis(\"off\")\n",
    "\n",
    "    def animate_func(i):\n",
    "        im.set_array(animation_arr[i])\n",
    "        return [im]\n",
    "    plt.close()\n",
    "    \n",
    "    anim = animation.FuncAnimation(fig, animate_func, frames=animation_arr.shape[0], interval=1000//fps)\n",
    "    return anim"
   ]
  },
  {
   "cell_type": "code",
   "execution_count": null,
   "metadata": {},
   "outputs": [],
   "source": [
    "data = {\"image\":orig_list[0], \"seg\":cmb_list[0]}\n",
    "output = transform(data)\n",
    "img = output[\"image\"].numpy().transpose([0, 3, 2, 1])[0]\n",
    "seg = output[\"seg\"].numpy().transpose([0, 3, 2, 1])[0]\n",
    "img = (img-np.min(img))/(np.max(img)-np.min(img)+1e-6)\n",
    "img = (img*255).astype(np.uint8)\n",
    "seg = np.where(seg>0, 255, 0).astype(np.uint8)\n",
    "\n",
    "create_animation(img, seg, fps=30)"
   ]
  },
  {
   "cell_type": "markdown",
   "metadata": {},
   "source": [
    "IMAGE DISPLAY ENDS\n",
    "<hr style=\"color:pink;width:50px;margin-left:40px\" align=\"left\">\n",
    "<hr style=\"color:pink;width:50px;margin-left:30px\" align=\"left\">\n",
    "<hr style=\"color:pink;width:50px;margin-left:20px\" align=\"left\">\n",
    "<hr style=\"color:pink;width:50px;margin-left:10px\" align=\"left\">\n",
    "<hr style=\"color:pink;width:50px;margin-left:0px\" align=\"left\">"
   ]
  }
 ],
 "metadata": {
  "kernelspec": {
   "display_name": "Python 3",
   "language": "python",
   "name": "python3"
  },
  "language_info": {
   "codemirror_mode": {
    "name": "ipython",
    "version": 3
   },
   "file_extension": ".py",
   "mimetype": "text/x-python",
   "name": "python",
   "nbconvert_exporter": "python",
   "pygments_lexer": "ipython3",
   "version": "3.7.17"
  }
 },
 "nbformat": 4,
 "nbformat_minor": 2
}

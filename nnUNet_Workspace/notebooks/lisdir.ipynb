{
 "cells": [
  {
   "cell_type": "code",
   "execution_count": 68,
   "metadata": {},
   "outputs": [],
   "source": [
    "import os\n",
    "import json\n",
    "tr = \"/storage2/dwseon/dat/raw/nnUNet_raw_data/Task999_CMB/imagesTr\"\n",
    "lb = \"/storage2/dwseon/dat/raw/nnUNet_raw_data/Task999_CMB/labelsTr\""
   ]
  },
  {
   "cell_type": "code",
   "execution_count": 69,
   "metadata": {},
   "outputs": [],
   "source": [
    "tr_li = os.listdir(tr)\n",
    "lb_li = os.listdir(lb)"
   ]
  },
  {
   "cell_type": "code",
   "execution_count": 70,
   "metadata": {},
   "outputs": [
    {
     "data": {
      "text/plain": [
       "'cmb_032.nii.gz'"
      ]
     },
     "execution_count": 70,
     "metadata": {},
     "output_type": "execute_result"
    }
   ],
   "source": [
    "lb_li[0]"
   ]
  },
  {
   "cell_type": "code",
   "execution_count": 71,
   "metadata": {},
   "outputs": [
    {
     "data": {
      "text/plain": [
       "'cmb_020_0000.nii.gz'"
      ]
     },
     "execution_count": 71,
     "metadata": {},
     "output_type": "execute_result"
    }
   ],
   "source": [
    "tr_li[0]"
   ]
  },
  {
   "cell_type": "code",
   "execution_count": 76,
   "metadata": {},
   "outputs": [],
   "source": [
    "tr_arr = []\n",
    "for p in tr_li:\n",
    "    for l in lb_li:\n",
    "        if l.split(\"cmb_\")[1].split(\".nii.gz\")[0] == p.split(\"cmb_\")[1].split(\"_0000.nii.gz\")[0]:\n",
    "            tr_arr.append({\"image\": \"./imagesTr/%s\" %l, \"label\": \"./labelsTr/%s\" %l})"
   ]
  },
  {
   "cell_type": "code",
   "execution_count": 77,
   "metadata": {},
   "outputs": [
    {
     "name": "stdout",
     "output_type": "stream",
     "text": [
      "[{'image': './imagesTr/cmb_020.nii.gz', 'label': './labelsTr/cmb_020.nii.gz'}, {'image': './imagesTr/cmb_021.nii.gz', 'label': './labelsTr/cmb_021.nii.gz'}, {'image': './imagesTr/cmb_022.nii.gz', 'label': './labelsTr/cmb_022.nii.gz'}, {'image': './imagesTr/cmb_023.nii.gz', 'label': './labelsTr/cmb_023.nii.gz'}, {'image': './imagesTr/cmb_024.nii.gz', 'label': './labelsTr/cmb_024.nii.gz'}, {'image': './imagesTr/cmb_025.nii.gz', 'label': './labelsTr/cmb_025.nii.gz'}, {'image': './imagesTr/cmb_026.nii.gz', 'label': './labelsTr/cmb_026.nii.gz'}, {'image': './imagesTr/cmb_027.nii.gz', 'label': './labelsTr/cmb_027.nii.gz'}, {'image': './imagesTr/cmb_028.nii.gz', 'label': './labelsTr/cmb_028.nii.gz'}, {'image': './imagesTr/cmb_029.nii.gz', 'label': './labelsTr/cmb_029.nii.gz'}, {'image': './imagesTr/cmb_030.nii.gz', 'label': './labelsTr/cmb_030.nii.gz'}, {'image': './imagesTr/cmb_031.nii.gz', 'label': './labelsTr/cmb_031.nii.gz'}, {'image': './imagesTr/cmb_032.nii.gz', 'label': './labelsTr/cmb_032.nii.gz'}, {'image': './imagesTr/cmb_033.nii.gz', 'label': './labelsTr/cmb_033.nii.gz'}, {'image': './imagesTr/cmb_034.nii.gz', 'label': './labelsTr/cmb_034.nii.gz'}, {'image': './imagesTr/cmb_035.nii.gz', 'label': './labelsTr/cmb_035.nii.gz'}, {'image': './imagesTr/cmb_036.nii.gz', 'label': './labelsTr/cmb_036.nii.gz'}, {'image': './imagesTr/cmb_037.nii.gz', 'label': './labelsTr/cmb_037.nii.gz'}, {'image': './imagesTr/cmb_038.nii.gz', 'label': './labelsTr/cmb_038.nii.gz'}, {'image': './imagesTr/cmb_039.nii.gz', 'label': './labelsTr/cmb_039.nii.gz'}, {'image': './imagesTr/cmb_040.nii.gz', 'label': './labelsTr/cmb_040.nii.gz'}, {'image': './imagesTr/cmb_041.nii.gz', 'label': './labelsTr/cmb_041.nii.gz'}, {'image': './imagesTr/cmb_042.nii.gz', 'label': './labelsTr/cmb_042.nii.gz'}, {'image': './imagesTr/cmb_043.nii.gz', 'label': './labelsTr/cmb_043.nii.gz'}, {'image': './imagesTr/cmb_044.nii.gz', 'label': './labelsTr/cmb_044.nii.gz'}, {'image': './imagesTr/cmb_045.nii.gz', 'label': './labelsTr/cmb_045.nii.gz'}, {'image': './imagesTr/cmb_046.nii.gz', 'label': './labelsTr/cmb_046.nii.gz'}, {'image': './imagesTr/cmb_047.nii.gz', 'label': './labelsTr/cmb_047.nii.gz'}, {'image': './imagesTr/cmb_048.nii.gz', 'label': './labelsTr/cmb_048.nii.gz'}, {'image': './imagesTr/cmb_049.nii.gz', 'label': './labelsTr/cmb_049.nii.gz'}, {'image': './imagesTr/cmb_050.nii.gz', 'label': './labelsTr/cmb_050.nii.gz'}, {'image': './imagesTr/cmb_051.nii.gz', 'label': './labelsTr/cmb_051.nii.gz'}, {'image': './imagesTr/cmb_052.nii.gz', 'label': './labelsTr/cmb_052.nii.gz'}, {'image': './imagesTr/cmb_053.nii.gz', 'label': './labelsTr/cmb_053.nii.gz'}, {'image': './imagesTr/cmb_054.nii.gz', 'label': './labelsTr/cmb_054.nii.gz'}, {'image': './imagesTr/cmb_055.nii.gz', 'label': './labelsTr/cmb_055.nii.gz'}, {'image': './imagesTr/cmb_056.nii.gz', 'label': './labelsTr/cmb_056.nii.gz'}, {'image': './imagesTr/cmb_057.nii.gz', 'label': './labelsTr/cmb_057.nii.gz'}, {'image': './imagesTr/cmb_058.nii.gz', 'label': './labelsTr/cmb_058.nii.gz'}, {'image': './imagesTr/cmb_059.nii.gz', 'label': './labelsTr/cmb_059.nii.gz'}, {'image': './imagesTr/cmb_060.nii.gz', 'label': './labelsTr/cmb_060.nii.gz'}, {'image': './imagesTr/cmb_061.nii.gz', 'label': './labelsTr/cmb_061.nii.gz'}, {'image': './imagesTr/cmb_062.nii.gz', 'label': './labelsTr/cmb_062.nii.gz'}, {'image': './imagesTr/cmb_063.nii.gz', 'label': './labelsTr/cmb_063.nii.gz'}, {'image': './imagesTr/cmb_064.nii.gz', 'label': './labelsTr/cmb_064.nii.gz'}, {'image': './imagesTr/cmb_065.nii.gz', 'label': './labelsTr/cmb_065.nii.gz'}, {'image': './imagesTr/cmb_066.nii.gz', 'label': './labelsTr/cmb_066.nii.gz'}, {'image': './imagesTr/cmb_067.nii.gz', 'label': './labelsTr/cmb_067.nii.gz'}, {'image': './imagesTr/cmb_068.nii.gz', 'label': './labelsTr/cmb_068.nii.gz'}, {'image': './imagesTr/cmb_069.nii.gz', 'label': './labelsTr/cmb_069.nii.gz'}, {'image': './imagesTr/cmb_070.nii.gz', 'label': './labelsTr/cmb_070.nii.gz'}, {'image': './imagesTr/cmb_071.nii.gz', 'label': './labelsTr/cmb_071.nii.gz'}, {'image': './imagesTr/cmb_072.nii.gz', 'label': './labelsTr/cmb_072.nii.gz'}, {'image': './imagesTr/cmb_073.nii.gz', 'label': './labelsTr/cmb_073.nii.gz'}, {'image': './imagesTr/cmb_074.nii.gz', 'label': './labelsTr/cmb_074.nii.gz'}, {'image': './imagesTr/cmb_075.nii.gz', 'label': './labelsTr/cmb_075.nii.gz'}, {'image': './imagesTr/cmb_076.nii.gz', 'label': './labelsTr/cmb_076.nii.gz'}, {'image': './imagesTr/cmb_077.nii.gz', 'label': './labelsTr/cmb_077.nii.gz'}, {'image': './imagesTr/cmb_078.nii.gz', 'label': './labelsTr/cmb_078.nii.gz'}, {'image': './imagesTr/cmb_079.nii.gz', 'label': './labelsTr/cmb_079.nii.gz'}, {'image': './imagesTr/cmb_080.nii.gz', 'label': './labelsTr/cmb_080.nii.gz'}, {'image': './imagesTr/cmb_081.nii.gz', 'label': './labelsTr/cmb_081.nii.gz'}, {'image': './imagesTr/cmb_082.nii.gz', 'label': './labelsTr/cmb_082.nii.gz'}, {'image': './imagesTr/cmb_083.nii.gz', 'label': './labelsTr/cmb_083.nii.gz'}, {'image': './imagesTr/cmb_084.nii.gz', 'label': './labelsTr/cmb_084.nii.gz'}, {'image': './imagesTr/cmb_085.nii.gz', 'label': './labelsTr/cmb_085.nii.gz'}, {'image': './imagesTr/cmb_086.nii.gz', 'label': './labelsTr/cmb_086.nii.gz'}, {'image': './imagesTr/cmb_087.nii.gz', 'label': './labelsTr/cmb_087.nii.gz'}, {'image': './imagesTr/cmb_088.nii.gz', 'label': './labelsTr/cmb_088.nii.gz'}, {'image': './imagesTr/cmb_089.nii.gz', 'label': './labelsTr/cmb_089.nii.gz'}, {'image': './imagesTr/cmb_090.nii.gz', 'label': './labelsTr/cmb_090.nii.gz'}, {'image': './imagesTr/cmb_091.nii.gz', 'label': './labelsTr/cmb_091.nii.gz'}, {'image': './imagesTr/cmb_092.nii.gz', 'label': './labelsTr/cmb_092.nii.gz'}, {'image': './imagesTr/cmb_093.nii.gz', 'label': './labelsTr/cmb_093.nii.gz'}, {'image': './imagesTr/cmb_094.nii.gz', 'label': './labelsTr/cmb_094.nii.gz'}, {'image': './imagesTr/cmb_095.nii.gz', 'label': './labelsTr/cmb_095.nii.gz'}, {'image': './imagesTr/cmb_096.nii.gz', 'label': './labelsTr/cmb_096.nii.gz'}, {'image': './imagesTr/cmb_097.nii.gz', 'label': './labelsTr/cmb_097.nii.gz'}, {'image': './imagesTr/cmb_098.nii.gz', 'label': './labelsTr/cmb_098.nii.gz'}, {'image': './imagesTr/cmb_099.nii.gz', 'label': './labelsTr/cmb_099.nii.gz'}, {'image': './imagesTr/cmb_100.nii.gz', 'label': './labelsTr/cmb_100.nii.gz'}, {'image': './imagesTr/cmb_001.nii.gz', 'label': './labelsTr/cmb_001.nii.gz'}, {'image': './imagesTr/cmb_002.nii.gz', 'label': './labelsTr/cmb_002.nii.gz'}, {'image': './imagesTr/cmb_003.nii.gz', 'label': './labelsTr/cmb_003.nii.gz'}, {'image': './imagesTr/cmb_004.nii.gz', 'label': './labelsTr/cmb_004.nii.gz'}, {'image': './imagesTr/cmb_005.nii.gz', 'label': './labelsTr/cmb_005.nii.gz'}, {'image': './imagesTr/cmb_006.nii.gz', 'label': './labelsTr/cmb_006.nii.gz'}, {'image': './imagesTr/cmb_007.nii.gz', 'label': './labelsTr/cmb_007.nii.gz'}, {'image': './imagesTr/cmb_008.nii.gz', 'label': './labelsTr/cmb_008.nii.gz'}, {'image': './imagesTr/cmb_009.nii.gz', 'label': './labelsTr/cmb_009.nii.gz'}, {'image': './imagesTr/cmb_010.nii.gz', 'label': './labelsTr/cmb_010.nii.gz'}, {'image': './imagesTr/cmb_011.nii.gz', 'label': './labelsTr/cmb_011.nii.gz'}, {'image': './imagesTr/cmb_012.nii.gz', 'label': './labelsTr/cmb_012.nii.gz'}, {'image': './imagesTr/cmb_013.nii.gz', 'label': './labelsTr/cmb_013.nii.gz'}, {'image': './imagesTr/cmb_014.nii.gz', 'label': './labelsTr/cmb_014.nii.gz'}, {'image': './imagesTr/cmb_015.nii.gz', 'label': './labelsTr/cmb_015.nii.gz'}, {'image': './imagesTr/cmb_016.nii.gz', 'label': './labelsTr/cmb_016.nii.gz'}, {'image': './imagesTr/cmb_017.nii.gz', 'label': './labelsTr/cmb_017.nii.gz'}, {'image': './imagesTr/cmb_018.nii.gz', 'label': './labelsTr/cmb_018.nii.gz'}, {'image': './imagesTr/cmb_019.nii.gz', 'label': './labelsTr/cmb_019.nii.gz'}]\n"
     ]
    }
   ],
   "source": [
    "print(tr_arr)"
   ]
  },
  {
   "cell_type": "code",
   "execution_count": null,
   "metadata": {},
   "outputs": [],
   "source": [
    "[{\"image\": \"./imagesTr/cmb_020.nii.gz\", \"label\": \"./labelsTr/cmb_020.nii.gz\"}, {\"image\": \"./imagesTr/cmb_021.nii.gz\", \"label\": \"./labelsTr/cmb_021.nii.gz\"}, {\"image\": \"./imagesTr/cmb_022.nii.gz\", \"label\": \"./labelsTr/cmb_022.nii.gz\"}, {\"image\": \"./imagesTr/cmb_023.nii.gz\", \"label\": \"./labelsTr/cmb_023.nii.gz\"}, {\"image\": \"./imagesTr/cmb_024.nii.gz\", \"label\": \"./labelsTr/cmb_024.nii.gz\"}, {\"image\": \"./imagesTr/cmb_025.nii.gz\", \"label\": \"./labelsTr/cmb_025.nii.gz\"}, {\"image\": \"./imagesTr/cmb_026.nii.gz\", \"label\": \"./labelsTr/cmb_026.nii.gz\"}, {\"image\": \"./imagesTr/cmb_027.nii.gz\", \"label\": \"./labelsTr/cmb_027.nii.gz\"}, {\"image\": \"./imagesTr/cmb_028.nii.gz\", \"label\": \"./labelsTr/cmb_028.nii.gz\"}, {\"image\": \"./imagesTr/cmb_029.nii.gz\", \"label\": \"./labelsTr/cmb_029.nii.gz\"}, {\"image\": \"./imagesTr/cmb_030.nii.gz\", \"label\": \"./labelsTr/cmb_030.nii.gz\"}, {\"image\": \"./imagesTr/cmb_031.nii.gz\", \"label\": \"./labelsTr/cmb_031.nii.gz\"}, {\"image\": \"./imagesTr/cmb_032.nii.gz\", \"label\": \"./labelsTr/cmb_032.nii.gz\"}, {\"image\": \"./imagesTr/cmb_033.nii.gz\", \"label\": \"./labelsTr/cmb_033.nii.gz\"}, {\"image\": \"./imagesTr/cmb_034.nii.gz\", \"label\": \"./labelsTr/cmb_034.nii.gz\"}, {\"image\": \"./imagesTr/cmb_035.nii.gz\", \"label\": \"./labelsTr/cmb_035.nii.gz\"}, {\"image\": \"./imagesTr/cmb_036.nii.gz\", \"label\": \"./labelsTr/cmb_036.nii.gz\"}, {\"image\": \"./imagesTr/cmb_037.nii.gz\", \"label\": \"./labelsTr/cmb_037.nii.gz\"}, {\"image\": \"./imagesTr/cmb_038.nii.gz\", \"label\": \"./labelsTr/cmb_038.nii.gz\"}, {\"image\": \"./imagesTr/cmb_039.nii.gz\", \"label\": \"./labelsTr/cmb_039.nii.gz\"}, {\"image\": \"./imagesTr/cmb_040.nii.gz\", \"label\": \"./labelsTr/cmb_040.nii.gz\"}, {\"image\": \"./imagesTr/cmb_041.nii.gz\", \"label\": \"./labelsTr/cmb_041.nii.gz\"}, {\"image\": \"./imagesTr/cmb_042.nii.gz\", \"label\": \"./labelsTr/cmb_042.nii.gz\"}, {\"image\": \"./imagesTr/cmb_043.nii.gz\", \"label\": \"./labelsTr/cmb_043.nii.gz\"}, {\"image\": \"./imagesTr/cmb_044.nii.gz\", \"label\": \"./labelsTr/cmb_044.nii.gz\"}, {\"image\": \"./imagesTr/cmb_045.nii.gz\", \"label\": \"./labelsTr/cmb_045.nii.gz\"}, {\"image\": \"./imagesTr/cmb_046.nii.gz\", \"label\": \"./labelsTr/cmb_046.nii.gz\"}, {\"image\": \"./imagesTr/cmb_047.nii.gz\", \"label\": \"./labelsTr/cmb_047.nii.gz\"}, {\"image\": \"./imagesTr/cmb_048.nii.gz\", \"label\": \"./labelsTr/cmb_048.nii.gz\"}, {\"image\": \"./imagesTr/cmb_049.nii.gz\", \"label\": \"./labelsTr/cmb_049.nii.gz\"}, {\"image\": \"./imagesTr/cmb_050.nii.gz\", \"label\": \"./labelsTr/cmb_050.nii.gz\"}, {\"image\": \"./imagesTr/cmb_051.nii.gz\", \"label\": \"./labelsTr/cmb_051.nii.gz\"}, {\"image\": \"./imagesTr/cmb_052.nii.gz\", \"label\": \"./labelsTr/cmb_052.nii.gz\"}, {\"image\": \"./imagesTr/cmb_053.nii.gz\", \"label\": \"./labelsTr/cmb_053.nii.gz\"}, {\"image\": \"./imagesTr/cmb_054.nii.gz\", \"label\": \"./labelsTr/cmb_054.nii.gz\"}, {\"image\": \"./imagesTr/cmb_055.nii.gz\", \"label\": \"./labelsTr/cmb_055.nii.gz\"}, {\"image\": \"./imagesTr/cmb_056.nii.gz\", \"label\": \"./labelsTr/cmb_056.nii.gz\"}, {\"image\": \"./imagesTr/cmb_057.nii.gz\", \"label\": \"./labelsTr/cmb_057.nii.gz\"}, {\"image\": \"./imagesTr/cmb_058.nii.gz\", \"label\": \"./labelsTr/cmb_058.nii.gz\"}, {\"image\": \"./imagesTr/cmb_059.nii.gz\", \"label\": \"./labelsTr/cmb_059.nii.gz\"}, {\"image\": \"./imagesTr/cmb_060.nii.gz\", \"label\": \"./labelsTr/cmb_060.nii.gz\"}, {\"image\": \"./imagesTr/cmb_061.nii.gz\", \"label\": \"./labelsTr/cmb_061.nii.gz\"}, {\"image\": \"./imagesTr/cmb_062.nii.gz\", \"label\": \"./labelsTr/cmb_062.nii.gz\"}, {\"image\": \"./imagesTr/cmb_063.nii.gz\", \"label\": \"./labelsTr/cmb_063.nii.gz\"}, {\"image\": \"./imagesTr/cmb_064.nii.gz\", \"label\": \"./labelsTr/cmb_064.nii.gz\"}, {\"image\": \"./imagesTr/cmb_065.nii.gz\", \"label\": \"./labelsTr/cmb_065.nii.gz\"}, {\"image\": \"./imagesTr/cmb_066.nii.gz\", \"label\": \"./labelsTr/cmb_066.nii.gz\"}, {\"image\": \"./imagesTr/cmb_067.nii.gz\", \"label\": \"./labelsTr/cmb_067.nii.gz\"}, {\"image\": \"./imagesTr/cmb_068.nii.gz\", \"label\": \"./labelsTr/cmb_068.nii.gz\"}, {\"image\": \"./imagesTr/cmb_069.nii.gz\", \"label\": \"./labelsTr/cmb_069.nii.gz\"}, {\"image\": \"./imagesTr/cmb_070.nii.gz\", \"label\": \"./labelsTr/cmb_070.nii.gz\"}, {\"image\": \"./imagesTr/cmb_071.nii.gz\", \"label\": \"./labelsTr/cmb_071.nii.gz\"}, {\"image\": \"./imagesTr/cmb_072.nii.gz\", \"label\": \"./labelsTr/cmb_072.nii.gz\"}, {\"image\": \"./imagesTr/cmb_073.nii.gz\", \"label\": \"./labelsTr/cmb_073.nii.gz\"}, {\"image\": \"./imagesTr/cmb_074.nii.gz\", \"label\": \"./labelsTr/cmb_074.nii.gz\"}, {\"image\": \"./imagesTr/cmb_075.nii.gz\", \"label\": \"./labelsTr/cmb_075.nii.gz\"}, {\"image\": \"./imagesTr/cmb_076.nii.gz\", \"label\": \"./labelsTr/cmb_076.nii.gz\"}, {\"image\": \"./imagesTr/cmb_077.nii.gz\", \"label\": \"./labelsTr/cmb_077.nii.gz\"}, {\"image\": \"./imagesTr/cmb_078.nii.gz\", \"label\": \"./labelsTr/cmb_078.nii.gz\"}, {\"image\": \"./imagesTr/cmb_079.nii.gz\", \"label\": \"./labelsTr/cmb_079.nii.gz\"}, {\"image\": \"./imagesTr/cmb_080.nii.gz\", \"label\": \"./labelsTr/cmb_080.nii.gz\"}, {\"image\": \"./imagesTr/cmb_081.nii.gz\", \"label\": \"./labelsTr/cmb_081.nii.gz\"}, {\"image\": \"./imagesTr/cmb_082.nii.gz\", \"label\": \"./labelsTr/cmb_082.nii.gz\"}, {\"image\": \"./imagesTr/cmb_083.nii.gz\", \"label\": \"./labelsTr/cmb_083.nii.gz\"}, {\"image\": \"./imagesTr/cmb_084.nii.gz\", \"label\": \"./labelsTr/cmb_084.nii.gz\"}, {\"image\": \"./imagesTr/cmb_085.nii.gz\", \"label\": \"./labelsTr/cmb_085.nii.gz\"}, {\"image\": \"./imagesTr/cmb_086.nii.gz\", \"label\": \"./labelsTr/cmb_086.nii.gz\"}, {\"image\": \"./imagesTr/cmb_087.nii.gz\", \"label\": \"./labelsTr/cmb_087.nii.gz\"}, {\"image\": \"./imagesTr/cmb_088.nii.gz\", \"label\": \"./labelsTr/cmb_088.nii.gz\"}, {\"image\": \"./imagesTr/cmb_089.nii.gz\", \"label\": \"./labelsTr/cmb_089.nii.gz\"}, {\"image\": \"./imagesTr/cmb_090.nii.gz\", \"label\": \"./labelsTr/cmb_090.nii.gz\"}, {\"image\": \"./imagesTr/cmb_091.nii.gz\", \"label\": \"./labelsTr/cmb_091.nii.gz\"}, {\"image\": \"./imagesTr/cmb_092.nii.gz\", \"label\": \"./labelsTr/cmb_092.nii.gz\"}, {\"image\": \"./imagesTr/cmb_093.nii.gz\", \"label\": \"./labelsTr/cmb_093.nii.gz\"}, {\"image\": \"./imagesTr/cmb_094.nii.gz\", \"label\": \"./labelsTr/cmb_094.nii.gz\"}, {\"image\": \"./imagesTr/cmb_095.nii.gz\", \"label\": \"./labelsTr/cmb_095.nii.gz\"}, {\"image\": \"./imagesTr/cmb_096.nii.gz\", \"label\": \"./labelsTr/cmb_096.nii.gz\"}, {\"image\": \"./imagesTr/cmb_097.nii.gz\", \"label\": \"./labelsTr/cmb_097.nii.gz\"}, {\"image\": \"./imagesTr/cmb_098.nii.gz\", \"label\": \"./labelsTr/cmb_098.nii.gz\"}, {\"image\": \"./imagesTr/cmb_099.nii.gz\", \"label\": \"./labelsTr/cmb_099.nii.gz\"}, {\"image\": \"./imagesTr/cmb_100.nii.gz\", \"label\": \"./labelsTr/cmb_100.nii.gz\"}, {\"image\": \"./imagesTr/cmb_001.nii.gz\", \"label\": \"./labelsTr/cmb_001.nii.gz\"}, {\"image\": \"./imagesTr/cmb_002.nii.gz\", \"label\": \"./labelsTr/cmb_002.nii.gz\"}, {\"image\": \"./imagesTr/cmb_003.nii.gz\", \"label\": \"./labelsTr/cmb_003.nii.gz\"}, {\"image\": \"./imagesTr/cmb_004.nii.gz\", \"label\": \"./labelsTr/cmb_004.nii.gz\"}, {\"image\": \"./imagesTr/cmb_005.nii.gz\", \"label\": \"./labelsTr/cmb_005.nii.gz\"}, {\"image\": \"./imagesTr/cmb_006.nii.gz\", \"label\": \"./labelsTr/cmb_006.nii.gz\"}, {\"image\": \"./imagesTr/cmb_007.nii.gz\", \"label\": \"./labelsTr/cmb_007.nii.gz\"}, {\"image\": \"./imagesTr/cmb_008.nii.gz\", \"label\": \"./labelsTr/cmb_008.nii.gz\"}, {\"image\": \"./imagesTr/cmb_009.nii.gz\", \"label\": \"./labelsTr/cmb_009.nii.gz\"}, {\"image\": \"./imagesTr/cmb_010.nii.gz\", \"label\": \"./labelsTr/cmb_010.nii.gz\"}, {\"image\": \"./imagesTr/cmb_011.nii.gz\", \"label\": \"./labelsTr/cmb_011.nii.gz\"}, {\"image\": \"./imagesTr/cmb_012.nii.gz\", \"label\": \"./labelsTr/cmb_012.nii.gz\"}, {\"image\": \"./imagesTr/cmb_013.nii.gz\", \"label\": \"./labelsTr/cmb_013.nii.gz\"}, {\"image\": \"./imagesTr/cmb_014.nii.gz\", \"label\": \"./labelsTr/cmb_014.nii.gz\"}, {\"image\": \"./imagesTr/cmb_015.nii.gz\", \"label\": \"./labelsTr/cmb_015.nii.gz\"}, {\"image\": \"./imagesTr/cmb_016.nii.gz\", \"label\": \"./labelsTr/cmb_016.nii.gz\"}, {\"image\": \"./imagesTr/cmb_017.nii.gz\", \"label\": \"./labelsTr/cmb_017.nii.gz\"}, {\"image\": \"./imagesTr/cmb_018.nii.gz\", \"label\": \"./labelsTr/cmb_018.nii.gz\"}, {\"image\": \"./imagesTr/cmb_019.nii.gz\", \"label\": \"./labelsTr/cmb_019.nii.gz\"}]"
   ]
  },
  {
   "cell_type": "code",
   "execution_count": null,
   "metadata": {},
   "outputs": [],
   "source": [
    "son = {\n",
    "    \"name\": \"CMB\",\n",
    "    \"description\": \"Good day\",\n",
    "    \"reference\": \"My head\",\n",
    "    \"license\": \"DUI\",\n",
    "    \"release\": \"Me\",\n",
    "    \"tensorImageSize\": \"3D\",\n",
    "    \"modality\": {\n",
    "        \"0\": \"SWI\"\n",
    "    },\n",
    "    \"labels\": {\n",
    "        \"0\": \"background\",\n",
    "        \"1\": \"CMB\"\n",
    "    },\n",
    "    \"numTraining\": 100,\n",
    "    \"numTest\": 0,\n",
    "    \"training\": [{\"image\": \"./imagesTr/cmb_020.nii.gz\", \"label\": \"./labelsTr/cmb_020.nii.gz\"}, {\"image\": \"./imagesTr/cmb_021.nii.gz\", \"label\": \"./labelsTr/cmb_021.nii.gz\"}, {\"image\": \"./imagesTr/cmb_022.nii.gz\", \"label\": \"./labelsTr/cmb_022.nii.gz\"}, {\"image\": \"./imagesTr/cmb_023.nii.gz\", \"label\": \"./labelsTr/cmb_023.nii.gz\"}, {\"image\": \"./imagesTr/cmb_024.nii.gz\", \"label\": \"./labelsTr/cmb_024.nii.gz\"}, {\"image\": \"./imagesTr/cmb_025.nii.gz\", \"label\": \"./labelsTr/cmb_025.nii.gz\"}, {\"image\": \"./imagesTr/cmb_026.nii.gz\", \"label\": \"./labelsTr/cmb_026.nii.gz\"}, {\"image\": \"./imagesTr/cmb_027.nii.gz\", \"label\": \"./labelsTr/cmb_027.nii.gz\"}, {\"image\": \"./imagesTr/cmb_028.nii.gz\", \"label\": \"./labelsTr/cmb_028.nii.gz\"}, {\"image\": \"./imagesTr/cmb_029.nii.gz\", \"label\": \"./labelsTr/cmb_029.nii.gz\"}, {\"image\": \"./imagesTr/cmb_030.nii.gz\", \"label\": \"./labelsTr/cmb_030.nii.gz\"}, {\"image\": \"./imagesTr/cmb_031.nii.gz\", \"label\": \"./labelsTr/cmb_031.nii.gz\"}, {\"image\": \"./imagesTr/cmb_032.nii.gz\", \"label\": \"./labelsTr/cmb_032.nii.gz\"}, {\"image\": \"./imagesTr/cmb_033.nii.gz\", \"label\": \"./labelsTr/cmb_033.nii.gz\"}, {\"image\": \"./imagesTr/cmb_034.nii.gz\", \"label\": \"./labelsTr/cmb_034.nii.gz\"}, {\"image\": \"./imagesTr/cmb_035.nii.gz\", \"label\": \"./labelsTr/cmb_035.nii.gz\"}, {\"image\": \"./imagesTr/cmb_036.nii.gz\", \"label\": \"./labelsTr/cmb_036.nii.gz\"}, {\"image\": \"./imagesTr/cmb_037.nii.gz\", \"label\": \"./labelsTr/cmb_037.nii.gz\"}, {\"image\": \"./imagesTr/cmb_038.nii.gz\", \"label\": \"./labelsTr/cmb_038.nii.gz\"}, {\"image\": \"./imagesTr/cmb_039.nii.gz\", \"label\": \"./labelsTr/cmb_039.nii.gz\"}, {\"image\": \"./imagesTr/cmb_040.nii.gz\", \"label\": \"./labelsTr/cmb_040.nii.gz\"}, {\"image\": \"./imagesTr/cmb_041.nii.gz\", \"label\": \"./labelsTr/cmb_041.nii.gz\"}, {\"image\": \"./imagesTr/cmb_042.nii.gz\", \"label\": \"./labelsTr/cmb_042.nii.gz\"}, {\"image\": \"./imagesTr/cmb_043.nii.gz\", \"label\": \"./labelsTr/cmb_043.nii.gz\"}, {\"image\": \"./imagesTr/cmb_044.nii.gz\", \"label\": \"./labelsTr/cmb_044.nii.gz\"}, {\"image\": \"./imagesTr/cmb_045.nii.gz\", \"label\": \"./labelsTr/cmb_045.nii.gz\"}, {\"image\": \"./imagesTr/cmb_046.nii.gz\", \"label\": \"./labelsTr/cmb_046.nii.gz\"}, {\"image\": \"./imagesTr/cmb_047.nii.gz\", \"label\": \"./labelsTr/cmb_047.nii.gz\"}, {\"image\": \"./imagesTr/cmb_048.nii.gz\", \"label\": \"./labelsTr/cmb_048.nii.gz\"}, {\"image\": \"./imagesTr/cmb_049.nii.gz\", \"label\": \"./labelsTr/cmb_049.nii.gz\"}, {\"image\": \"./imagesTr/cmb_050.nii.gz\", \"label\": \"./labelsTr/cmb_050.nii.gz\"}, {\"image\": \"./imagesTr/cmb_051.nii.gz\", \"label\": \"./labelsTr/cmb_051.nii.gz\"}, {\"image\": \"./imagesTr/cmb_052.nii.gz\", \"label\": \"./labelsTr/cmb_052.nii.gz\"}, {\"image\": \"./imagesTr/cmb_053.nii.gz\", \"label\": \"./labelsTr/cmb_053.nii.gz\"}, {\"image\": \"./imagesTr/cmb_054.nii.gz\", \"label\": \"./labelsTr/cmb_054.nii.gz\"}, {\"image\": \"./imagesTr/cmb_055.nii.gz\", \"label\": \"./labelsTr/cmb_055.nii.gz\"}, {\"image\": \"./imagesTr/cmb_056.nii.gz\", \"label\": \"./labelsTr/cmb_056.nii.gz\"}, {\"image\": \"./imagesTr/cmb_057.nii.gz\", \"label\": \"./labelsTr/cmb_057.nii.gz\"}, {\"image\": \"./imagesTr/cmb_058.nii.gz\", \"label\": \"./labelsTr/cmb_058.nii.gz\"}, {\"image\": \"./imagesTr/cmb_059.nii.gz\", \"label\": \"./labelsTr/cmb_059.nii.gz\"}, {\"image\": \"./imagesTr/cmb_060.nii.gz\", \"label\": \"./labelsTr/cmb_060.nii.gz\"}, {\"image\": \"./imagesTr/cmb_061.nii.gz\", \"label\": \"./labelsTr/cmb_061.nii.gz\"}, {\"image\": \"./imagesTr/cmb_062.nii.gz\", \"label\": \"./labelsTr/cmb_062.nii.gz\"}, {\"image\": \"./imagesTr/cmb_063.nii.gz\", \"label\": \"./labelsTr/cmb_063.nii.gz\"}, {\"image\": \"./imagesTr/cmb_064.nii.gz\", \"label\": \"./labelsTr/cmb_064.nii.gz\"}, {\"image\": \"./imagesTr/cmb_065.nii.gz\", \"label\": \"./labelsTr/cmb_065.nii.gz\"}, {\"image\": \"./imagesTr/cmb_066.nii.gz\", \"label\": \"./labelsTr/cmb_066.nii.gz\"}, {\"image\": \"./imagesTr/cmb_067.nii.gz\", \"label\": \"./labelsTr/cmb_067.nii.gz\"}, {\"image\": \"./imagesTr/cmb_068.nii.gz\", \"label\": \"./labelsTr/cmb_068.nii.gz\"}, {\"image\": \"./imagesTr/cmb_069.nii.gz\", \"label\": \"./labelsTr/cmb_069.nii.gz\"}, {\"image\": \"./imagesTr/cmb_070.nii.gz\", \"label\": \"./labelsTr/cmb_070.nii.gz\"}, {\"image\": \"./imagesTr/cmb_071.nii.gz\", \"label\": \"./labelsTr/cmb_071.nii.gz\"}, {\"image\": \"./imagesTr/cmb_072.nii.gz\", \"label\": \"./labelsTr/cmb_072.nii.gz\"}, {\"image\": \"./imagesTr/cmb_073.nii.gz\", \"label\": \"./labelsTr/cmb_073.nii.gz\"}, {\"image\": \"./imagesTr/cmb_074.nii.gz\", \"label\": \"./labelsTr/cmb_074.nii.gz\"}, {\"image\": \"./imagesTr/cmb_075.nii.gz\", \"label\": \"./labelsTr/cmb_075.nii.gz\"}, {\"image\": \"./imagesTr/cmb_076.nii.gz\", \"label\": \"./labelsTr/cmb_076.nii.gz\"}, {\"image\": \"./imagesTr/cmb_077.nii.gz\", \"label\": \"./labelsTr/cmb_077.nii.gz\"}, {\"image\": \"./imagesTr/cmb_078.nii.gz\", \"label\": \"./labelsTr/cmb_078.nii.gz\"}, {\"image\": \"./imagesTr/cmb_079.nii.gz\", \"label\": \"./labelsTr/cmb_079.nii.gz\"}, {\"image\": \"./imagesTr/cmb_080.nii.gz\", \"label\": \"./labelsTr/cmb_080.nii.gz\"}, {\"image\": \"./imagesTr/cmb_081.nii.gz\", \"label\": \"./labelsTr/cmb_081.nii.gz\"}, {\"image\": \"./imagesTr/cmb_082.nii.gz\", \"label\": \"./labelsTr/cmb_082.nii.gz\"}, {\"image\": \"./imagesTr/cmb_083.nii.gz\", \"label\": \"./labelsTr/cmb_083.nii.gz\"}, {\"image\": \"./imagesTr/cmb_084.nii.gz\", \"label\": \"./labelsTr/cmb_084.nii.gz\"}, {\"image\": \"./imagesTr/cmb_085.nii.gz\", \"label\": \"./labelsTr/cmb_085.nii.gz\"}, {\"image\": \"./imagesTr/cmb_086.nii.gz\", \"label\": \"./labelsTr/cmb_086.nii.gz\"}, {\"image\": \"./imagesTr/cmb_087.nii.gz\", \"label\": \"./labelsTr/cmb_087.nii.gz\"}, {\"image\": \"./imagesTr/cmb_088.nii.gz\", \"label\": \"./labelsTr/cmb_088.nii.gz\"}, {\"image\": \"./imagesTr/cmb_089.nii.gz\", \"label\": \"./labelsTr/cmb_089.nii.gz\"}, {\"image\": \"./imagesTr/cmb_090.nii.gz\", \"label\": \"./labelsTr/cmb_090.nii.gz\"}, {\"image\": \"./imagesTr/cmb_091.nii.gz\", \"label\": \"./labelsTr/cmb_091.nii.gz\"}, {\"image\": \"./imagesTr/cmb_092.nii.gz\", \"label\": \"./labelsTr/cmb_092.nii.gz\"}, {\"image\": \"./imagesTr/cmb_093.nii.gz\", \"label\": \"./labelsTr/cmb_093.nii.gz\"}, {\"image\": \"./imagesTr/cmb_094.nii.gz\", \"label\": \"./labelsTr/cmb_094.nii.gz\"}, {\"image\": \"./imagesTr/cmb_095.nii.gz\", \"label\": \"./labelsTr/cmb_095.nii.gz\"}, {\"image\": \"./imagesTr/cmb_096.nii.gz\", \"label\": \"./labelsTr/cmb_096.nii.gz\"}, {\"image\": \"./imagesTr/cmb_097.nii.gz\", \"label\": \"./labelsTr/cmb_097.nii.gz\"}, {\"image\": \"./imagesTr/cmb_098.nii.gz\", \"label\": \"./labelsTr/cmb_098.nii.gz\"}, {\"image\": \"./imagesTr/cmb_099.nii.gz\", \"label\": \"./labelsTr/cmb_099.nii.gz\"}, {\"image\": \"./imagesTr/cmb_100.nii.gz\", \"label\": \"./labelsTr/cmb_100.nii.gz\"}, {\"image\": \"./imagesTr/cmb_001.nii.gz\", \"label\": \"./labelsTr/cmb_001.nii.gz\"}, {\"image\": \"./imagesTr/cmb_002.nii.gz\", \"label\": \"./labelsTr/cmb_002.nii.gz\"}, {\"image\": \"./imagesTr/cmb_003.nii.gz\", \"label\": \"./labelsTr/cmb_003.nii.gz\"}, {\"image\": \"./imagesTr/cmb_004.nii.gz\", \"label\": \"./labelsTr/cmb_004.nii.gz\"}, {\"image\": \"./imagesTr/cmb_005.nii.gz\", \"label\": \"./labelsTr/cmb_005.nii.gz\"}, {\"image\": \"./imagesTr/cmb_006.nii.gz\", \"label\": \"./labelsTr/cmb_006.nii.gz\"}, {\"image\": \"./imagesTr/cmb_007.nii.gz\", \"label\": \"./labelsTr/cmb_007.nii.gz\"}, {\"image\": \"./imagesTr/cmb_008.nii.gz\", \"label\": \"./labelsTr/cmb_008.nii.gz\"}, {\"image\": \"./imagesTr/cmb_009.nii.gz\", \"label\": \"./labelsTr/cmb_009.nii.gz\"}, {\"image\": \"./imagesTr/cmb_010.nii.gz\", \"label\": \"./labelsTr/cmb_010.nii.gz\"}, {\"image\": \"./imagesTr/cmb_011.nii.gz\", \"label\": \"./labelsTr/cmb_011.nii.gz\"}, {\"image\": \"./imagesTr/cmb_012.nii.gz\", \"label\": \"./labelsTr/cmb_012.nii.gz\"}, {\"image\": \"./imagesTr/cmb_013.nii.gz\", \"label\": \"./labelsTr/cmb_013.nii.gz\"}, {\"image\": \"./imagesTr/cmb_014.nii.gz\", \"label\": \"./labelsTr/cmb_014.nii.gz\"}, {\"image\": \"./imagesTr/cmb_015.nii.gz\", \"label\": \"./labelsTr/cmb_015.nii.gz\"}, {\"image\": \"./imagesTr/cmb_016.nii.gz\", \"label\": \"./labelsTr/cmb_016.nii.gz\"}, {\"image\": \"./imagesTr/cmb_017.nii.gz\", \"label\": \"./labelsTr/cmb_017.nii.gz\"}, {\"image\": \"./imagesTr/cmb_018.nii.gz\", \"label\": \"./labelsTr/cmb_018.nii.gz\"}, {\"image\": \"./imagesTr/cmb_019.nii.gz\", \"label\": \"./labelsTr/cmb_019.nii.gz\"}],\n",
    "    \"test\": []\n",
    "}"
   ]
  },
  {
   "cell_type": "code",
   "execution_count": 60,
   "metadata": {},
   "outputs": [],
   "source": [
    "lb_paths = []\n",
    "for p in lb_li:\n",
    "    lb_paths.append(os.path.join(lb, p))"
   ]
  },
  {
   "cell_type": "code",
   "execution_count": 52,
   "metadata": {},
   "outputs": [],
   "source": [
    "for thing in lb_paths:\n",
    "    target = os.path.basename(thing).split(\".nii.gz\")[0] + \"_0000.nii.gz\"\n",
    "    target = os.path.join(lb, target)\n",
    "    #print(target)\n",
    "    !mv $thing $target"
   ]
  },
  {
   "cell_type": "code",
   "execution_count": 62,
   "metadata": {},
   "outputs": [],
   "source": [
    "for thing in lb_paths:\n",
    "    target = os.path.basename(thing).split(\"_0000.nii.gz\")[0] + \".nii.gz\"\n",
    "    target = os.path.join(lb, target)\n",
    "    #print(target)\n",
    "    !mv $thing $target"
   ]
  }
 ],
 "metadata": {
  "kernelspec": {
   "display_name": "Python 3",
   "language": "python",
   "name": "python3"
  },
  "language_info": {
   "codemirror_mode": {
    "name": "ipython",
    "version": 2
   },
   "file_extension": ".py",
   "mimetype": "text/x-python",
   "name": "python",
   "nbconvert_exporter": "python",
   "pygments_lexer": "ipython2",
   "version": "2.7.17"
  }
 },
 "nbformat": 4,
 "nbformat_minor": 2
}

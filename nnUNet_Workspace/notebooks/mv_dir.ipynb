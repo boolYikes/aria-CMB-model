{
 "cells": [
  {
   "cell_type": "code",
   "execution_count": 1,
   "metadata": {},
   "outputs": [],
   "source": [
    "import os"
   ]
  },
  {
   "cell_type": "code",
   "execution_count": 17,
   "metadata": {},
   "outputs": [],
   "source": [
    "src_dir = '/workspace/dwseon/dee/'\n",
    "train_dir = '/workspace/dwseon/dat/raw/Dataset001_CMB/imagesTr/'\n",
    "test_dir = '/workspace/dwseon/dat/raw/Dataset001_CMB/imagesTs/'\n",
    "label_dir = '/workspace/dwseon/dat/raw/Dataset001_CMB/labelsTr/'\n",
    "src_lbl_dir = '/workspace/aria-data/cnuh/nifti/drawing/SWI_CMB/'"
   ]
  },
  {
   "cell_type": "code",
   "execution_count": 7,
   "metadata": {},
   "outputs": [],
   "source": [
    "src_path = []\n",
    "for f in os.listdir(src_dir):\n",
    "    if f.isdigit():\n",
    "        src_path.append(os.path.join(src_dir, f\"{f}/{f}_bet.nii.gz\"))"
   ]
  },
  {
   "cell_type": "code",
   "execution_count": 15,
   "metadata": {},
   "outputs": [
    {
     "data": {
      "text/plain": [
       "'020'"
      ]
     },
     "execution_count": 15,
     "metadata": {},
     "output_type": "execute_result"
    }
   ],
   "source": [
    "os.path.basename(src_path[0]).split(\"_bet.nii.gz\")[0]"
   ]
  },
  {
   "cell_type": "code",
   "execution_count": 16,
   "metadata": {},
   "outputs": [
    {
     "name": "stdout",
     "output_type": "stream",
     "text": [
      "Moved 100 ppl.\r"
     ]
    }
   ],
   "source": [
    "cnt = 0\n",
    "for p in src_path:\n",
    "    p_num = os.path.basename(p).split(\"_bet.nii.gz\")[0]\n",
    "    target_name = f\"cmb_{p_num}_0000.nii.gz\"\n",
    "    target_path = os.path.join(train_dir, target_name)\n",
    "    !mv $p $target_path\n",
    "    cnt += 1\n",
    "    print(f\"Moved {cnt} ppl.\", end=\"\\r\")"
   ]
  },
  {
   "cell_type": "code",
   "execution_count": 20,
   "metadata": {},
   "outputs": [],
   "source": [
    "srs_lbl_list = [os.path.join(src_lbl_dir, f) for f in os.listdir(src_lbl_dir)]"
   ]
  },
  {
   "cell_type": "code",
   "execution_count": 22,
   "metadata": {},
   "outputs": [
    {
     "name": "stdout",
     "output_type": "stream",
     "text": [
      "Copied 100 ppl\r"
     ]
    }
   ],
   "source": [
    "cnt = 0\n",
    "for p in srs_lbl_list:\n",
    "    p_num = os.path.basename(p).split(\"_cmb.nii.gz\")[0]\n",
    "    target_name = f\"cmb_{p_num}.nii.gz\"\n",
    "    target_path = os.path.join(label_dir, target_name)\n",
    "    !cp $p $target_path\n",
    "    cnt += 1\n",
    "    print(f\"Copied {cnt} ppl\", end=\"\\r\")"
   ]
  }
 ],
 "metadata": {
  "kernelspec": {
   "display_name": "Python 3 (ipykernel)",
   "language": "python",
   "name": "python3"
  },
  "language_info": {
   "codemirror_mode": {
    "name": "ipython",
    "version": 3
   },
   "file_extension": ".py",
   "mimetype": "text/x-python",
   "name": "python",
   "nbconvert_exporter": "python",
   "pygments_lexer": "ipython3",
   "version": "3.9.18"
  }
 },
 "nbformat": 4,
 "nbformat_minor": 2
}

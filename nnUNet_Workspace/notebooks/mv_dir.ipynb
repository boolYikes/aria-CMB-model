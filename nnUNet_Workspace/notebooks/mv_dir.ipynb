{
 "cells": [
  {
   "cell_type": "code",
   "execution_count": 1,
   "metadata": {},
   "outputs": [],
   "source": [
    "import os"
   ]
  },
  {
   "cell_type": "code",
   "execution_count": 11,
   "metadata": {},
   "outputs": [],
   "source": [
    "target_dir = '/workspace/dwseon/dat/b4_raw'\n",
    "img_dir = '/workspace/dwseon/dat/raw/nnUNet_raw_data/Task999_CMB/imagesTr'\n",
    "lbl_dir = '/workspace/dwseon/dat/raw/nnUNet_raw_data/Task999_CMB/labelsTr'"
   ]
  },
  {
   "cell_type": "code",
   "execution_count": 4,
   "metadata": {},
   "outputs": [
    {
     "data": {
      "text/plain": [
       "['', 'a']"
      ]
     },
     "execution_count": 4,
     "metadata": {},
     "output_type": "execute_result"
    }
   ],
   "source": [
    "\"asd_a\".split(\"asd_\")"
   ]
  },
  {
   "cell_type": "code",
   "execution_count": 12,
   "metadata": {},
   "outputs": [],
   "source": [
    "img_li = os.listdir(img_dir)\n",
    "lbl_li = os.listdir(lbl_dir)\n",
    "for p in img_li:\n",
    "    pnum = p.split(\"cmb_\")[1].split(\"_0000.nii.gz\")[0]\n",
    "    source = os.path.join(img_dir, p)\n",
    "    pdir = os.path.join(target_dir, pnum)\n",
    "    target = os.path.join(pdir, \"orig.nii.gz\")\n",
    "    !mkdir $pdir\n",
    "    !cp $source $target\n",
    "    for l in lbl_li:\n",
    "        if l.split(\"cmb_\")[1].split(\".nii.gz\")[0] == pnum:\n",
    "            source = os.path.join(lbl_dir, l)\n",
    "            target = os.path.join(pdir, \"seg.nii.gz\")\n",
    "            !cp $source $target\n",
    "            "
   ]
  },
  {
   "cell_type": "code",
   "execution_count": 7,
   "metadata": {},
   "outputs": [],
   "source": [
    "src_path = []\n",
    "for f in os.listdir(src_dir):\n",
    "    if f.isdigit():\n",
    "        src_path.append(os.path.join(src_dir, f\"{f}/{f}_bet.nii.gz\"))"
   ]
  },
  {
   "cell_type": "code",
   "execution_count": 15,
   "metadata": {},
   "outputs": [
    {
     "data": {
      "text/plain": [
       "'020'"
      ]
     },
     "execution_count": 15,
     "metadata": {},
     "output_type": "execute_result"
    }
   ],
   "source": [
    "os.path.basename(src_path[0]).split(\"_bet.nii.gz\")[0]"
   ]
  },
  {
   "cell_type": "code",
   "execution_count": 16,
   "metadata": {},
   "outputs": [
    {
     "name": "stdout",
     "output_type": "stream",
     "text": [
      "Moved 100 ppl.\r"
     ]
    }
   ],
   "source": [
    "cnt = 0\n",
    "for p in src_path:\n",
    "    p_num = os.path.basename(p).split(\"_bet.nii.gz\")[0]\n",
    "    target_name = f\"cmb_{p_num}_0000.nii.gz\"\n",
    "    target_path = os.path.join(train_dir, target_name)\n",
    "    !mv $p $target_path\n",
    "    cnt += 1\n",
    "    print(f\"Moved {cnt} ppl.\", end=\"\\r\")"
   ]
  },
  {
   "cell_type": "code",
   "execution_count": 20,
   "metadata": {},
   "outputs": [],
   "source": [
    "srs_lbl_list = [os.path.join(src_lbl_dir, f) for f in os.listdir(src_lbl_dir)]"
   ]
  },
  {
   "cell_type": "code",
   "execution_count": 22,
   "metadata": {},
   "outputs": [
    {
     "name": "stdout",
     "output_type": "stream",
     "text": [
      "Copied 100 ppl\r"
     ]
    }
   ],
   "source": [
    "cnt = 0\n",
    "for p in srs_lbl_list:\n",
    "    p_num = os.path.basename(p).split(\"_cmb.nii.gz\")[0]\n",
    "    target_name = f\"cmb_{p_num}.nii.gz\"\n",
    "    target_path = os.path.join(label_dir, target_name)\n",
    "    !cp $p $target_path\n",
    "    cnt += 1\n",
    "    print(f\"Copied {cnt} ppl\", end=\"\\r\")"
   ]
  }
 ],
 "metadata": {
  "kernelspec": {
   "display_name": "Python 3 (ipykernel)",
   "language": "python",
   "name": "python3"
  }
 },
 "nbformat": 4,
 "nbformat_minor": 2
}

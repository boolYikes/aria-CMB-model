{
 "cells": [
  {
   "cell_type": "code",
   "execution_count": 1,
   "metadata": {},
   "outputs": [],
   "source": [
    "import os\n",
    "import numpy as np\n",
    "import nibabel as nib"
   ]
  },
  {
   "cell_type": "code",
   "execution_count": 5,
   "metadata": {},
   "outputs": [],
   "source": [
    "path = \"/workspace/dwseon/dat/b4_raw/\"\n",
    "pList = os.listdir(path)\n",
    "pList = [os.path.join(path, p) for p in pList]\n",
    "pList = [os.path.join(p, \"b4_reg_seg.nii.gz\") for p in pList]"
   ]
  },
  {
   "cell_type": "code",
   "execution_count": 44,
   "metadata": {},
   "outputs": [
    {
     "name": "stdout",
     "output_type": "stream",
     "text": [
      "[0 6 1]\n",
      "[6]\n",
      "[[0 0 0]\n",
      " [0 0 0]]\n"
     ]
    }
   ],
   "source": [
    "a = np.array([[1,2,3], [0, 6, 1]]).astype(int)\n",
    "print(a[1])\n",
    "print(a[1][a[1]>2])\n",
    "print(a*0)"
   ]
  },
  {
   "cell_type": "code",
   "execution_count": 58,
   "metadata": {},
   "outputs": [],
   "source": [
    "# Labeling mistakes, patient:slices\n",
    "edit_target = {\"088\":[27], \"076\":[31, 20], \"060\":[23],\n",
    "               \"038\":[12], \"037\":[14,28], \"024\":[32]}\n",
    "\n",
    "def fixxxx(dic):\n",
    "    for patient, slices in dic.items():\n",
    "        # print(patient, slices)\n",
    "        p = os.path.join(path, patient)\n",
    "        p = os.path.join(p, \"b4_reg_seg.nii.gz\")\n",
    "        img = nib.load(p)\n",
    "        affine = img.affine # for consistency when saving\n",
    "        img = img.get_fdata()\n",
    "        # print(img[:, :, 0].shape)\n",
    "        for slice in slices:\n",
    "            # Don't forget to slice-1\n",
    "            # print(f\"patient {patient}, slice {slice}\\n\\033[31mb4\\033[0m: {np.unique(img[:, :, slice-1])}\")\n",
    "            img[:, :, slice-1] = img[:, :, slice-1] * 0\n",
    "            # print(f\"\\033[32mftr\\033[0m: {np.unique(img[:, :, slice-1])}\")\n",
    "        mod = nib.Nifti1Image(img, affine)\n",
    "        nib.save(mod, os.path.join(path, f\"{patient}/b4_reg_seg_fix.nii.gz\"))\n",
    "        print(f\"\\033[31mDone\\033[0m for patient \\033[32m{patient}\\033[0m!\", end=\"\\r\")"
   ]
  },
  {
   "cell_type": "code",
   "execution_count": 59,
   "metadata": {},
   "outputs": [
    {
     "name": "stdout",
     "output_type": "stream",
     "text": [
      "\u001b[31mDone\u001b[0m for patient \u001b[32m024\u001b[0m!\r"
     ]
    }
   ],
   "source": [
    "fixxxx(edit_target)"
   ]
  },
  {
   "cell_type": "code",
   "execution_count": 60,
   "metadata": {},
   "outputs": [],
   "source": [
    "def switch_names(dic):\n",
    "    # Done with fixing AND checking up on them?\n",
    "    # Rename them to their rightful original name\n",
    "    for patient, _ in dic.items():\n",
    "        p = os.path.join(path, patient)\n",
    "        fro = os.path.join(p, \"b4_reg_seg_fix.nii.gz\")\n",
    "        target = os.path.join(p, \"b4_reg_seg.nii.gz\")\n",
    "        # remove dirty ones first\n",
    "        os.remove(target)\n",
    "        os.rename(fro, target)"
   ]
  },
  {
   "cell_type": "code",
   "execution_count": 61,
   "metadata": {},
   "outputs": [],
   "source": [
    "switch_names(edit_target)"
   ]
  }
 ],
 "metadata": {
  "kernelspec": {
   "display_name": "Python 3 (ipykernel)",
   "language": "python",
   "name": "python3"
  },
  "language_info": {
   "codemirror_mode": {
    "name": "ipython",
    "version": 3
   },
   "file_extension": ".py",
   "mimetype": "text/x-python",
   "name": "python",
   "nbconvert_exporter": "python",
   "pygments_lexer": "ipython3",
   "version": "3.11.5"
  }
 },
 "nbformat": 4,
 "nbformat_minor": 2
}

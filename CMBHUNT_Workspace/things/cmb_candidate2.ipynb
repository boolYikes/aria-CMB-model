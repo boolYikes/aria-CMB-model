{
 "cells": [
  {
   "cell_type": "code",
   "execution_count": 41,
   "metadata": {},
   "outputs": [],
   "source": [
    "import numpy as np\n",
    "import nibabel as nib\n",
    "from sklearn.mixture import GaussianMixture\n",
    "from sklearn.cluster import KMeans\n",
    "from sklearn.metrics import pairwise_distances\n",
    "from mpl_toolkits.mplot3d import Axes3D\n",
    "import matplotlib.pyplot as plt\n",
    "from sklearn.decomposition import PCA\n",
    "from sklearn.preprocessing import StandardScaler\n",
    "import os\n",
    "import pandas as pd"
   ]
  },
  {
   "cell_type": "code",
   "execution_count": 5,
   "metadata": {},
   "outputs": [],
   "source": [
    "# ASSUMING HD-BET IS DONE ON THE IMAGES : swi_bet.nii.gz\n",
    "dat_dir = \"/Workspace/Data/\"\n",
    "all_dir = os.listdir(dat_dir)\n",
    "all_dir = [all_dir[i] if all_dir[i].isdigit() else all_dir.pop(i) for i in range(len(all_dir))]\n",
    "all_dir = [os.path.join(dat_dir, patient) for patient in all_dir]"
   ]
  },
  {
   "cell_type": "code",
   "execution_count": 8,
   "metadata": {},
   "outputs": [],
   "source": [
    "img = nib.load(os.path.join(all_dir[0], \"swi.nii.gz\"))\n",
    "data = img.get_fdata()"
   ]
  },
  {
   "cell_type": "code",
   "execution_count": null,
   "metadata": {},
   "outputs": [],
   "source": [
    "# Generate random data for demonstration\n",
    "np.random.seed(42)\n",
    "num_points = 500\n",
    "x = np.random.rand(num_points)\n",
    "y = np.random.rand(num_points)\n",
    "z = np.random.rand(num_points)\n",
    "data = np.column_stack((x, y, z))\n",
    "n_clusters = 5\n",
    "kmeans = KMeans(n_clusters=n_clusters, n_init='auto', random_state=42)\n",
    "labels = kmeans.fit_predict(data)\n",
    "\n",
    "fig = plt.figure()\n",
    "ax = fig.add_subplot(111, projection='3d')\n",
    "scatter = ax.scatter(x, y, z, c=labels, cmap='viridis', marker='o')\n",
    "ax.set_xlabel('X-axis')\n",
    "ax.set_ylabel('Y-axis')\n",
    "ax.set_zlabel('Z-axis')\n",
    "fig.colorbar(scatter, label='Cluster')\n",
    "plt.show()"
   ]
  },
  {
   "cell_type": "code",
   "execution_count": 58,
   "metadata": {},
   "outputs": [
    {
     "data": {
      "text/plain": [
       "array([[1, 4, 7],\n",
       "       [2, 5, 8],\n",
       "       [3, 6, 9]])"
      ]
     },
     "execution_count": 58,
     "metadata": {},
     "output_type": "execute_result"
    }
   ],
   "source": [
    "a = [1, 2, 3]\n",
    "b = [4, 5, 6]\n",
    "c = [7, 8, 9]\n",
    "d = np.column_stack((a, b, c))"
   ]
  },
  {
   "cell_type": "markdown",
   "metadata": {},
   "source": [
    " 1. Derive gmm components from all slices from all the patients\n",
    " - One slice will have n_component number of mixture(mean, var, weights)\n",
    " - \n",
    " 2. Cluster mean var weights\n",
    " 3. Evaluate Dunn index\n",
    " 4. Loop 1~3 to find optimal n_cluster, move on when done\n",
    " 5. Derive probability function\n",
    " 6. Decide cut-offs (belongs to x cluster + probability)"
   ]
  }
 ],
 "metadata": {
  "kernelspec": {
   "display_name": "Python 3 (ipykernel)",
   "language": "python",
   "name": "python3"
  }
 },
 "nbformat": 4,
 "nbformat_minor": 2
}

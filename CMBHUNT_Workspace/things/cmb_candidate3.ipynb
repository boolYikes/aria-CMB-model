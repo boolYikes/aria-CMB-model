{
 "cells": [
  {
   "cell_type": "code",
   "execution_count": null,
   "metadata": {},
   "outputs": [],
   "source": [
    "import os\n",
    "import numpy as np\n",
    "import matplotlib.pyplot as plt\n",
    "from skimage import io, filters, morphology, measure\n",
    "import nibabel as nib\n",
    "from scipy import ndimage, spatial\n",
    "import cv2"
   ]
  },
  {
   "cell_type": "code",
   "execution_count": 2,
   "metadata": {},
   "outputs": [],
   "source": [
    "# ASSUMING HD-BET IS DONE ON THE IMAGES : swi_bet.nii.gz and swi_bet_mask.nii.gz must be present\n",
    "dat_dir = \"/Workspace/Data/\"\n",
    "all_dir = os.listdir(dat_dir)\n",
    "all_dir = [all_dir[i] if all_dir[i].isdigit() else all_dir.pop(i) for i in range(len(all_dir))]\n",
    "all_dir = [os.path.join(dat_dir, patient) for patient in all_dir]"
   ]
  },
  {
   "cell_type": "code",
   "execution_count": 3,
   "metadata": {},
   "outputs": [
    {
     "name": "stdout",
     "output_type": "stream",
     "text": [
      "40 in  /Workspace/Data/21113002\n",
      "['swi_bet.nii.gz', 'swi_bet_mask.nii.gz', 'swi.nii.gz', 'cmb.nii.gz']\n"
     ]
    }
   ],
   "source": [
    "for i, dir in enumerate(all_dir):\n",
    "    if len(os.listdir(dir)) > 2:\n",
    "        print(f'{i} in  {dir}')\n",
    "        print(os.listdir(dir))"
   ]
  },
  {
   "cell_type": "code",
   "execution_count": 10,
   "metadata": {},
   "outputs": [],
   "source": [
    "swi_bet = io.imread(os.path.join(all_dir[40], \"swi_bet.nii.gz\"), plugin=\"simpleitk\")\n",
    "#1s in the mask are brain region.\n",
    "bet_mask = io.imread(os.path.join(all_dir[40], \"swi_bet_mask.nii.gz\"), plugin=\"simpleitk\")\n",
    "background = np.logical_not(bet_mask)"
   ]
  },
  {
   "cell_type": "code",
   "execution_count": 16,
   "metadata": {},
   "outputs": [],
   "source": [
    "strip_slice = swi_bet[40]\n",
    "mask_slice = bet_mask[40]\n",
    "bg_slice = background[40].astype(np.uint8)"
   ]
  },
  {
   "cell_type": "code",
   "execution_count": 62,
   "metadata": {},
   "outputs": [],
   "source": [
    "def unsharp_mask(image, kernel_size=(3,3), sigma=1.0, amount=1.0, threshold=0):\n",
    "    blurred = cv2.GaussianBlur(image, kernel_size, sigma)\n",
    "    sharpened = float(amount + 1) * image - float(amount) * blurred\n",
    "    sharpened = np.maximum(sharpened, np.zeros(sharpened.shape))\n",
    "    sharpened = np.minimum(sharpened, 255 * np.ones(sharpened.shape))\n",
    "    sharpened = sharpened.round().astype(np.uint8)\n",
    "    if threshold > 0:\n",
    "        low_contrast_mask = np.absolute(image-blurred) < threshold\n",
    "        np.copyto(sharpened, image, where=low_contrast_mask)\n",
    "    return sharpened"
   ]
  },
  {
   "cell_type": "code",
   "execution_count": 63,
   "metadata": {},
   "outputs": [],
   "source": [
    "sharp = unsharp_mask(strip_slice)"
   ]
  },
  {
   "cell_type": "code",
   "execution_count": 96,
   "metadata": {},
   "outputs": [],
   "source": [
    "ret, thresh = cv2.threshold(sharp, 127, 255, 0)"
   ]
  },
  {
   "cell_type": "code",
   "execution_count": 129,
   "metadata": {},
   "outputs": [],
   "source": [
    "param = cv2.SimpleBlobDetector_Params()\n",
    "param.filterByArea=True\n",
    "param.minArea=3\n",
    "param.maxArea=50\n",
    "param.filterByCircularity=True\n",
    "param.minCircularity=0.1\n",
    "param.maxCircularity=1.0\n",
    "param.minDistBetweenBlobs=1\n",
    "param.minRepeatability=1\n",
    "\n",
    "detector = cv2.SimpleBlobDetector_create(param)\n",
    "points = detector.detect(thresh.astype(np.uint8))\n",
    "## this is all we need for cmb hunt. but go on further for submission to the prof"
   ]
  },
  {
   "cell_type": "code",
   "execution_count": 134,
   "metadata": {},
   "outputs": [],
   "source": [
    "blob_mask = np.zeros_like(sharp, dtype=np.uint8)"
   ]
  },
  {
   "cell_type": "code",
   "execution_count": 159,
   "metadata": {},
   "outputs": [],
   "source": [
    "kp = cv2.drawKeypoints(thresh.astype(np.uint8), points, blob_mask, (255, 0, 0), cv2.DRAW_MATCHES_FLAGS_DEFAULT)"
   ]
  },
  {
   "cell_type": "code",
   "execution_count": 164,
   "metadata": {},
   "outputs": [],
   "source": [
    "nifti = nib.Nifti1Image(blob_mask, affine=np.eye(4))\n",
    "nib.save(nifti, '/Workspace/Data/21113002/cmb_candidate.nii.gz')"
   ]
  },
  {
   "cell_type": "code",
   "execution_count": null,
   "metadata": {},
   "outputs": [],
   "source": []
  },
  {
   "cell_type": "markdown",
   "metadata": {},
   "source": [
    "<hr style=\"color:red\">\n",
    "BELOW ARE TEST CODES\n",
    "<hr>"
   ]
  },
  {
   "cell_type": "code",
   "execution_count": 266,
   "metadata": {},
   "outputs": [],
   "source": [
    "threshold = filters.threshold_otsu(strip_slice)\n",
    "bin_mask = swi_bet[40] < threshold"
   ]
  },
  {
   "cell_type": "code",
   "execution_count": null,
   "metadata": {},
   "outputs": [],
   "source": [
    "res = bin_mask.astype(int) - bet_bg[40]"
   ]
  },
  {
   "cell_type": "code",
   "execution_count": 361,
   "metadata": {},
   "outputs": [],
   "source": [
    "# that fills very tiny holes. that's good\n",
    "fin = ndimage.binary_fill_holes(res)"
   ]
  },
  {
   "cell_type": "code",
   "execution_count": 362,
   "metadata": {},
   "outputs": [],
   "source": [
    "contours, _ = cv2.findContours(fin.astype(np.uint8), cv2.RETR_EXTERNAL, cv2.CHAIN_APPROX_SIMPLE)"
   ]
  },
  {
   "cell_type": "code",
   "execution_count": 377,
   "metadata": {},
   "outputs": [
    {
     "data": {
      "text/plain": [
       "array([[[191, 296]],\n",
       "\n",
       "       [[192, 296]]], dtype=int32)"
      ]
     },
     "execution_count": 377,
     "metadata": {},
     "output_type": "execute_result"
    }
   ],
   "source": [
    "contours[0]"
   ]
  },
  {
   "cell_type": "code",
   "execution_count": 375,
   "metadata": {},
   "outputs": [],
   "source": [
    "mask = np.zeros_like(fin, dtype=np.uint8)\n",
    "fin2 = cv2.drawContours(mask, contours, -1, 1, thickness=cv2.FILLED)\n"
   ]
  },
  {
   "cell_type": "code",
   "execution_count": 376,
   "metadata": {},
   "outputs": [
    {
     "name": "stderr",
     "output_type": "stream",
     "text": [
      "/opt/conda/lib/python3.11/site-packages/skimage/io/_plugins/matplotlib_plugin.py:149: UserWarning: Low image data range; displaying image with stretched contrast.\n",
      "  lo, hi, cmap = _get_display_range(image)\n"
     ]
    },
    {
     "data": {
      "text/plain": [
       "<matplotlib.image.AxesImage at 0x7f82a245b890>"
      ]
     },
     "execution_count": 376,
     "metadata": {},
     "output_type": "execute_result"
    },
    {
     "data": {
      "image/png": "[encoded data removed]",
      "text/plain": [
       "<Figure size 640x480 with 2 Axes>"
      ]
     },
     "metadata": {},
     "output_type": "display_data"
    }
   ],
   "source": [
    "io.imshow(fin2)"
   ]
  },
  {
   "cell_type": "code",
   "execution_count": null,
   "metadata": {},
   "outputs": [],
   "source": []
  },
  {
   "cell_type": "code",
   "execution_count": 170,
   "metadata": {},
   "outputs": [
    {
     "data": {
      "text/plain": [
       "array([[0., 0., 0., ..., 0., 0., 0.],\n",
       "       [0., 0., 0., ..., 0., 0., 0.],\n",
       "       [0., 0., 0., ..., 0., 0., 0.],\n",
       "       ...,\n",
       "       [0., 0., 0., ..., 0., 0., 0.],\n",
       "       [0., 0., 0., ..., 0., 0., 0.],\n",
       "       [0., 0., 0., ..., 0., 0., 0.]])"
      ]
     },
     "execution_count": 170,
     "metadata": {},
     "output_type": "execute_result"
    }
   ],
   "source": [
    "mark = np.zeros_like(slice)"
   ]
  },
  {
   "cell_type": "code",
   "execution_count": 171,
   "metadata": {},
   "outputs": [
    {
     "data": {
      "text/plain": [
       "array([0.])"
      ]
     },
     "execution_count": 171,
     "metadata": {},
     "output_type": "execute_result"
    }
   ],
   "source": [
    "np.unique(mark)"
   ]
  }
 ],
 "metadata": {
  "kernelspec": {
   "display_name": "Python 3 (ipykernel)",
   "language": "python",
   "name": "python3"
  },
  "language_info": {
   "codemirror_mode": {
    "name": "ipython",
    "version": 3
   },
   "file_extension": ".py",
   "mimetype": "text/x-python",
   "name": "python",
   "nbconvert_exporter": "python",
   "pygments_lexer": "ipython3",
   "version": "3.11.6"
  }
 },
 "nbformat": 4,
 "nbformat_minor": 2
}

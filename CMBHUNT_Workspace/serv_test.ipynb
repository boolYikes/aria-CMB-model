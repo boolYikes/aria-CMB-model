{
 "cells": [
  {
   "cell_type": "code",
   "execution_count": 1,
   "metadata": {},
   "outputs": [],
   "source": [
    "# MIGRATE THESE TO A SCRIPT\n",
    "import sys\n",
    "import os\n",
    "import time\n",
    "import re\n",
    "dat_dir = '/Workspace/CMB/Data/'\n",
    "temp = \"/Workspace/CMB/Data/temp\""
   ]
  },
  {
   "cell_type": "code",
   "execution_count": 2,
   "metadata": {},
   "outputs": [
    {
     "data": {
      "text/plain": [
       "450"
      ]
     },
     "execution_count": 2,
     "metadata": {},
     "output_type": "execute_result"
    }
   ],
   "source": [
    "pat_list = [dat_dir+p for p in os.listdir(dat_dir) if re.match(r'^\\d+$', p) is not None]\n",
    "len(pat_list)"
   ]
  },
  {
   "cell_type": "code",
   "execution_count": null,
   "metadata": {},
   "outputs": [],
   "source": [
    "# 스트리핑 된 거 한 폴더에 몰아주기\n",
    "# if not os.path.isdir(temp) : os.makedirs(temp)\n",
    "# for path in pat_list:\n",
    "#     base = !basename $path\n",
    "#     content = !ls $path\n",
    "#     if \"fsl_preproc.nii.gz\" in content:\n",
    "#         to_move = path+\"/fsl_preproc.nii.gz\"\n",
    "#         name = temp+\"/\"+base[0]+\"_preproc.nii.gz\"\n",
    "#         !cp $to_move $name"
   ]
  },
  {
   "cell_type": "code",
   "execution_count": 34,
   "metadata": {},
   "outputs": [],
   "source": [
    "# CORRECTING MY WRONG DOING! :(  ----> use it for renaming\n",
    "# things = os.listdir(temp)\n",
    "# for thing in things :\n",
    "#     before = temp+\"/\"+thing\n",
    "#     after = thing.strip(\".nii.gz\").strip(\"fsl_\")\n",
    "#     after = temp+\"/\"+after+\"_preproc.nii.gz\"\n",
    "#     !mv $before $after\n",
    "# comment out after usage!!!!!!"
   ]
  },
  {
   "cell_type": "code",
   "execution_count": 3,
   "metadata": {},
   "outputs": [
    {
     "name": "stdout",
     "output_type": "stream",
     "text": [
      "/opt/conda/bin/microbleednet:4: DeprecationWarning: pkg_resources is deprecated as an API. See https://setuptools.pypa.io/en/latest/pkg_resources.html\n",
      "  __import__('pkg_resources').run_script('microbleednet==1.0.1', 'microbleednet')\n"
     ]
    },
    {
     "name": "stdout",
     "output_type": "stream",
     "text": [
      "classes:2, pretrained:True, name:Microbleednet, cp:best\n",
      "subject: {'inp_path': '/Workspace/CMB/Data/temp/21102103_preproc.nii.gz', 'basename': '21102103'}\n",
      "/opt/conda/lib/python3.11/site-packages/microbleednet-1.0.1-py3.11.egg/microbleednet/microbleed_net/microbleednet_data_preparation.py:472: RuntimeWarning: invalid value encountered in divide\n",
      "/opt/conda/lib/python3.11/site-packages/microbleednet-1.0.1-py3.11.egg/microbleednet/microbleed_net/microbleednet_data_preparation.py:475: RuntimeWarning: invalid value encountered in divide\n",
      "crp dat:230, crp lbls: 230, crp brain:230, crp frst:230\n",
      "TEST MODE: WHICH IS MY GOAL\n",
      "from data prep: datlen:120, lablen:120, pws:120\n",
      "subject_dat length: 3\n",
      "Traceback (most recent call last):\n",
      "  File \"/opt/conda/bin/microbleednet\", line 4, in <module>\n",
      "    __import__('pkg_resources').run_script('microbleednet==1.0.1', 'microbleednet')\n",
      "  File \"/opt/conda/lib/python3.11/site-packages/pkg_resources/__init__.py\", line 722, in run_script\n",
      "    self.require(requires)[0].run_script(script_name, ns)\n",
      "  File \"/opt/conda/lib/python3.11/site-packages/pkg_resources/__init__.py\", line 1572, in run_script\n",
      "    exec(script_code, namespace, namespace)\n",
      "  File \"/opt/conda/lib/python3.11/site-packages/microbleednet-1.0.1-py3.11.egg/EGG-INFO/scripts/microbleednet\", line 225, in <module>\n",
      "  File \"/opt/conda/lib/python3.11/site-packages/microbleednet-1.0.1-py3.11.egg/microbleednet/microbleed_net/microbleednet_commands.py\", line 224, in evaluate\n",
      "  File \"/opt/conda/lib/python3.11/site-packages/microbleednet-1.0.1-py3.11.egg/microbleednet/microbleed_net/microbleednet_test_function.py\", line 92, in main\n",
      "  File \"/opt/conda/lib/python3.11/site-packages/microbleednet-1.0.1-py3.11.egg/microbleednet/microbleed_net/microbleednet_evaluate.py\", line 46, in evaluate_cdet\n",
      "TypeError: 'DataLoader' object is not subscriptable\n"
     ]
    }
   ],
   "source": [
    "out = \"/Workspace/CMB/Data/result\"\n",
    "if not os.path.isdir(out) : os.makedirs(out)\n",
    "mName = \"Microbleednet\"\n",
    "mPath = \"/sundara_pretrained/\"\n",
    "mFull = mPath + mName\n",
    "true = \"True\"\n",
    "cp = \"best\"\n",
    "cpn = \"\" # not used\n",
    "!microbleednet evaluate -i $temp -p $true -o $out -m $mFull -cp_type $cp"
   ]
  },
  {
   "cell_type": "markdown",
   "metadata": {},
   "source": [
    "-- BELOW ARE TEST CELLS --"
   ]
  },
  {
   "cell_type": "code",
   "execution_count": 83,
   "metadata": {},
   "outputs": [],
   "source": [
    "import numpy as np\n",
    "import torch\n",
    "import nibabel as nib\n",
    "from scipy.ndimage import gaussian_filter as gf"
   ]
  },
  {
   "cell_type": "code",
   "execution_count": 67,
   "metadata": {},
   "outputs": [],
   "source": [
    "a = [np.arange(2).astype(float), np.array([2,3,4]).astype(float)]\n",
    "b = [torch.tensor([5,6,4])]"
   ]
  },
  {
   "cell_type": "code",
   "execution_count": 68,
   "metadata": {},
   "outputs": [
    {
     "name": "stdout",
     "output_type": "stream",
     "text": [
      "test:[array([0., 1.]), array([2., 3., 4.])]\n",
      "test:[tensor([5, 6, 4])]\n"
     ]
    }
   ],
   "source": [
    "print(f'test:{a}')\n",
    "print(f'test:{b}')"
   ]
  },
  {
   "cell_type": "code",
   "execution_count": 71,
   "metadata": {},
   "outputs": [],
   "source": [
    "img = nib.load(\"/Workspace/CMB/Data/temp/21102001_preproc.nii.gz\").get_fdata()"
   ]
  },
  {
   "cell_type": "code",
   "execution_count": 73,
   "metadata": {},
   "outputs": [],
   "source": [
    "label = np.zeros_like(img, dtype=int)"
   ]
  },
  {
   "cell_type": "code",
   "execution_count": 77,
   "metadata": {},
   "outputs": [],
   "source": [
    "brain = (img > 0).astype(int)"
   ]
  },
  {
   "cell_type": "code",
   "execution_count": 85,
   "metadata": {},
   "outputs": [],
   "source": [
    "def frsx(input_image, radii2d, alpha=2, factor_std=0.1, bright=False, dark=False):\n",
    "    [gx, gy] = np.gradient(input_image)\n",
    "    maximum_radius = np.ceil(np.max(radii2d))\n",
    "    offset_img = np.array([maximum_radius, maximum_radius]).astype(int)\n",
    "    rad_sym_output = np.zeros(input_image.shape + 2 * offset_img)\n",
    "\n",
    "    Sum_sym = np.zeros([len(radii2d), rad_sym_output.shape[0], rad_sym_output.shape[1]])\n",
    "    rad_index=0\n",
    "    for n in radii2d:\n",
    "        O_n = np.zeros(rad_sym_output.shape)\n",
    "        M_n = np.zeros(rad_sym_output.shape)\n",
    "        for i in range(0, input_image.shape[0]):\n",
    "            for j in range(0, input_image.shape[1]):\n",
    "                p = np.array([i, j]).astype(int)\n",
    "                g = np.array([gx[i, j], gy[i, j]]).astype(int)\n",
    "                g_norm = np.sqrt(g @ g.T)\n",
    "                if (g_norm > 0):\n",
    "                    gp = np.round((g // g_norm) * n)\n",
    "                    if bright:\n",
    "                        ppos = p+ gp\n",
    "                        ppos = (ppos + offset_img)\n",
    "                        O_n[int(ppos[0]), int(ppos[1])] = O_n[int(ppos[0]), int(ppos[1])] + 1\n",
    "                        M_n[int(ppos[0]), int(ppos[1])] = M_n[int(ppos[0]), int(ppos[1])] + g_norm\n",
    "                    if dark:\n",
    "                        pneg = p - gp\n",
    "                        pneg = (pneg + offset_img)\n",
    "                        O_n[int(pneg[0]), int(pneg[1])] = O_n[int(pneg[0]), int(pneg[1])] - 1\n",
    "                        M_n[int(pneg[0]), int(pneg[1])] = M_n[int(pneg[0]), int(pneg[1])] - g_norm\n",
    "        O_n = abs(O_n)\n",
    "        O_n = O_n / np.max(O_n)\n",
    "        M_n = abs(M_n)\n",
    "        M_n = M_n / np.max(M_n)\n",
    "        S_n = (O_n ** alpha) * M_n\n",
    "        Sum_sym[rad_index, :, :] = gf(S_n, n * factor_std) ## depric\n",
    "        rad_index = rad_index + 1\n",
    "    rad_sym_output = np.squeeze(np.sum(Sum_sym, axis=0))\n",
    "    rad_sym_output = rad_sym_output[offset_img[0]:-offset_img[1], offset_img[0]:-offset_img[1]]\n",
    "    return rad_sym_output\n",
    "def get_frst_data(data):\n",
    "    radii2d = np.array([2, 3])\n",
    "    frst_output = np.zeros([data.shape[0], data.shape[1], data.shape[2]])\n",
    "    for i in range(data.shape[2]):\n",
    "        inp_slice = data[:, :, i]\n",
    "        feature_frst = frsx(inp_slice, radii2d, alpha=1, factor_std=0.1, bright=False, dark=True)\n",
    "        frst_output[:, :, i] = feature_frst\n",
    "    return frst_output\n",
    "                        "
   ]
  },
  {
   "cell_type": "code",
   "execution_count": 86,
   "metadata": {},
   "outputs": [
    {
     "name": "stderr",
     "output_type": "stream",
     "text": [
      "/tmp/ipykernel_656/899793789.py:30: RuntimeWarning: invalid value encountered in divide\n",
      "  O_n = O_n / np.max(O_n)\n",
      "/tmp/ipykernel_656/899793789.py:32: RuntimeWarning: invalid value encountered in divide\n",
      "  M_n = M_n / np.max(M_n)\n"
     ]
    }
   ],
   "source": [
    "frst = get_frst_data(img)"
   ]
  },
  {
   "cell_type": "code",
   "execution_count": 89,
   "metadata": {},
   "outputs": [],
   "source": [
    "frst[np.isnan(frst)] = 0"
   ]
  },
  {
   "cell_type": "code",
   "execution_count": 100,
   "metadata": {},
   "outputs": [
    {
     "name": "stdout",
     "output_type": "stream",
     "text": [
      "trhee\n"
     ]
    }
   ],
   "source": [
    "c = \"abc\"\n",
    "c == \"abc\"\n",
    "if c == \"dd\":\n",
    "    print(\"one\")\n",
    "elif c == \"ee\":\n",
    "    print(\"two\")\n",
    "else:\n",
    "    print(\"trhee\")"
   ]
  }
 ],
 "metadata": {
  "kernelspec": {
   "display_name": "Python 3",
   "language": "python",
   "name": "python3"
  },
  "language_info": {
   "codemirror_mode": {
    "name": "ipython",
    "version": 3
   },
   "file_extension": ".py",
   "mimetype": "text/x-python",
   "name": "python",
   "nbconvert_exporter": "python",
   "pygments_lexer": "ipython3",
   "version": "3.11.5"
  }
 },
 "nbformat": 4,
 "nbformat_minor": 2
}
